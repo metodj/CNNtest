{
 "cells": [
  {
   "cell_type": "code",
   "execution_count": 6,
   "metadata": {
    "collapsed": false
   },
   "outputs": [],
   "source": [
    "#adapted after https://www.kaggle.com/sentdex/data-science-bowl-2017/first-pass-through-data-w-3d-convnet\n",
    "#and https://github.com/pieper/pydicom/blob/master/source/dicom/test/test_filereader.py\n",
    "\n",
    "import dicom\n",
    "import os\n",
    "import matplotlib.pyplot as plt\n",
    "import cv2\n",
    "import numpy as np"
   ]
  },
  {
   "cell_type": "code",
   "execution_count": 7,
   "metadata": {
    "collapsed": true
   },
   "outputs": [],
   "source": [
    "import math\n",
    "\n",
    "def chunks(l, n):\n",
    "    for i in range(0, len(l), n):\n",
    "        yield l[i:i + n]\n",
    "\n",
    "def mean(l):\n",
    "    return sum(l) / len(l)\n",
    "\n",
    "IMG_PX_SIZE = 150\n",
    "HM_SLICES = 20"
   ]
  },
  {
   "cell_type": "code",
   "execution_count": 8,
   "metadata": {
    "collapsed": true
   },
   "outputs": [],
   "source": [
    "def process_data(patient,img_px_size=50, hm_slices=20):\n",
    "    \n",
    "    slices = [dicom.read_file(folder + '/' + s) for s in os.listdir(folder)]\n",
    "    slices.sort(key = lambda x: int(x.ImagePositionPatient[2]))\n",
    "    \n",
    "    #info about picture\n",
    "    #print(slices[0])\n",
    "    \n",
    "    #print array shape\n",
    "    #print(slices[0].pixel_array.shape, len(slices)) \n",
    "    \n",
    "    #show a slice of choice\n",
    "    #plt.imshow(slices[125].pixel_array)\n",
    "    #plt.show()\n",
    "    \n",
    "    #resizing to 150*150*20\n",
    "    new_slices = []\n",
    "\n",
    "    slices = [cv2.resize(np.array(each_slice.pixel_array),(img_px_size,img_px_size)) for each_slice in slices]\n",
    "\n",
    "    chunk_sizes = math.ceil(len(slices) / hm_slices)\n",
    "\n",
    "    for slice_chunk in chunks(slices, chunk_sizes):\n",
    "        slice_chunk = list(map(mean, zip(*slice_chunk)))\n",
    "        new_slices.append(slice_chunk)\n",
    "        \n",
    "    if len(new_slices) == hm_slices-1:\n",
    "        new_slices.append(new_slices[-1])\n",
    "\n",
    "    if len(new_slices) == hm_slices-2:\n",
    "        new_slices.append(new_slices[-1])\n",
    "        new_slices.append(new_slices[-1])\n",
    "\n",
    "    if len(new_slices) == hm_slices+2:\n",
    "        new_val = list(map(mean, zip(*[new_slices[hm_slices-1],new_slices[hm_slices],])))\n",
    "        del new_slices[hm_slices]\n",
    "        new_slices[hm_slices-1] = new_val\n",
    "\n",
    "    if len(new_slices) == hm_slices+1:\n",
    "        new_val = list(map(mean, zip(*[new_slices[hm_slices-1],new_slices[hm_slices],])))\n",
    "        del new_slices[hm_slices]\n",
    "        new_slices[hm_slices-1] = new_val\n",
    "    \n",
    "    #showing resized pictures\n",
    "    #fig = plt.figure()\n",
    "    #for num,each_slice in enumerate(new_slices):\n",
    "    #    y = fig.add_subplot(4,5,num+1)\n",
    "    #    y.imshow(each_slice, cmap='gray')\n",
    "    #plt.show()\n",
    "    \n",
    "    return np.array(new_slices)"
   ]
  },
  {
   "cell_type": "code",
   "execution_count": 9,
   "metadata": {
    "collapsed": false
   },
   "outputs": [],
   "source": [
    "data_dir = '../4D-Lung/'\n",
    "#patient 0\n",
    "path = data_dir + '100_HM10395/1.3.6.1.4.1.14519.5.2.1.6834.5010.465205689126985052184293614571/'\n",
    "\n",
    "folders = [x[0] for x in os.walk(path)]\n",
    "del folders[0]\n",
    "#folders[:10]\n",
    "\n",
    "data = []\n",
    "for num,folder in enumerate(folders[:10]):\n",
    "    img_data=process_data(folder,img_px_size=IMG_PX_SIZE, hm_slices=HM_SLICES)\n",
    "    #print(img_data.shape)\n",
    "    data.append(img_data)\n",
    "np.save('data-{}-{}-{}.npy'.format(IMG_PX_SIZE,IMG_PX_SIZE,HM_SLICES), data)"
   ]
  },
  {
   "cell_type": "code",
   "execution_count": 10,
   "metadata": {
    "collapsed": false
   },
   "outputs": [],
   "source": [
    "for folder in folders[10:11]:\n",
    "    rtss = dicom.read_file(folder + '/' + os.listdir(folder)[0])\n",
    "    #print(rtss)\n",
    "    #expected = '1.2.840.10008.1.2'  # implVR little endian\n",
    "    #got = rtss.file_meta.TransferSyntaxUID\n",
    "    #msg = \"Expected transfer syntax %r, got %r\" % (expected, got)\n",
    "    #frame_of_ref = rtss.ReferencedFrameOfReferenceSequence[0]\n",
    "    #study = frame_of_ref.RTReferencedStudySequence[0]\n",
    "    #uid = study.RTReferencedSeriesSequence[0].SeriesInstanceUID\n",
    "    #expected = \"1.2.826.0.1.3680043.8.498.2010020400001.2.1.1\"\n",
    "    #msg = \"Expected Reference Series UID '%s', got '%s'\" % (expected, uid)\n",
    "\n",
    "    got = rtss.ROIContourSequence[10].ContourSequence[2] #cancer is tenth contour\n",
    "    #print(got)\n",
    "    #expected = 3\n",
    "    #msg = \"Expected Contour Number %d, got %r\" % (expected, got)\n",
    "\n",
    "    #obs_seq0 = rtss.RTROIObservationsSequence[0]\n",
    "    #got = obs_seq0.ROIPhysicalPropertiesSequence[0].ROIPhysicalProperty\n",
    "    #expected = 'REL_ELEC_DENSITY'\n",
    "    #msg = \"Expected Physical Property '%s', got %r\" % (expected, got)\n",
    "    #folder\n",
    "    #os.listdir(folder)\n",
    "    #slices = [dicom.read_file(folder + '/' + s) for s in os.listdir(folder)]\n",
    "    #slices.sort(key = lambda x: int(x.ImagePositionPatient[2]))\n",
    "    #print(len(slices))\n",
    "    #print(slices[0])"
   ]
  },
  {
   "cell_type": "code",
   "execution_count": null,
   "metadata": {
    "collapsed": true
   },
   "outputs": [],
   "source": []
  }
 ],
 "metadata": {
  "kernelspec": {
   "display_name": "Python 3",
   "language": "python",
   "name": "python3"
  },
  "language_info": {
   "codemirror_mode": {
    "name": "ipython",
    "version": 3
   },
   "file_extension": ".py",
   "mimetype": "text/x-python",
   "name": "python",
   "nbconvert_exporter": "python",
   "pygments_lexer": "ipython3",
   "version": "3.6.0"
  }
 },
 "nbformat": 4,
 "nbformat_minor": 2
}
