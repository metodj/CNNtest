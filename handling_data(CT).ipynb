{
 "cells": [
  {
   "cell_type": "code",
   "execution_count": 20,
   "metadata": {
    "collapsed": false
   },
   "outputs": [],
   "source": [
    "#adapted after https://www.kaggle.com/sentdex/data-science-bowl-2017/first-pass-through-data-w-3d-convnet\n",
    "\n",
    "#NOT FINISHED\n",
    "#ZADEVA JE V DELU MA NACELOMA ZDEJ JE SKORI TU TU\n",
    "\n",
    "import dicom\n",
    "import os\n",
    "import matplotlib.pyplot as plt\n",
    "import cv2\n",
    "import numpy as np\n",
    "import csv\n",
    "import math"
   ]
  },
  {
   "cell_type": "code",
   "execution_count": 21,
   "metadata": {
    "collapsed": true
   },
   "outputs": [],
   "source": [
    "import math\n",
    "\n",
    "def chunks(l, n):\n",
    "    for i in range(0, len(l), n):\n",
    "        yield l[i:i + n]\n",
    "\n",
    "def mean(l):\n",
    "    return sum(l) / len(l)\n",
    "\n",
    "IMG_PX_SIZE = 160\n",
    "HM_SLICES = 24"
   ]
  },
  {
   "cell_type": "code",
   "execution_count": 10,
   "metadata": {
    "collapsed": true
   },
   "outputs": [],
   "source": [
    "def process_data(patient,img_px_size=160, hm_slices=24):\n",
    "    \n",
    "    slices = [dicom.read_file(folder + '/' + s) for s in os.listdir(folder)]\n",
    "    slices.sort(key = lambda x: int(x.ImagePositionPatient[2]))\n",
    "    \n",
    "    #info about picture\n",
    "    #print(slices[0])\n",
    "    \n",
    "    #print array shape\n",
    "    #print(slices[0].pixel_array.shape, len(slices)) \n",
    "    \n",
    "    #show a slice of choice\n",
    "    #plt.imshow(slices[125].pixel_array)\n",
    "    #plt.show()\n",
    "    \n",
    "    #resizing to 150*150*20\n",
    "    new_slices = []\n",
    "\n",
    "    slices = [cv2.resize(np.array(each_slice.pixel_array),(img_px_size,img_px_size)) for each_slice in slices]\n",
    "\n",
    "    chunk_sizes = math.ceil(len(slices) / hm_slices)\n",
    "\n",
    "    for slice_chunk in chunks(slices, chunk_sizes):\n",
    "        slice_chunk = list(map(mean, zip(*slice_chunk)))\n",
    "        new_slices.append(slice_chunk)\n",
    "        \n",
    "    if len(new_slices) == hm_slices-1:\n",
    "        new_slices.append(new_slices[-1])\n",
    "\n",
    "    if len(new_slices) == hm_slices-2:\n",
    "        new_slices.append(new_slices[-1])\n",
    "        new_slices.append(new_slices[-1])\n",
    "\n",
    "    if len(new_slices) == hm_slices+2:\n",
    "        new_val = list(map(mean, zip(*[new_slices[hm_slices-1],new_slices[hm_slices],])))\n",
    "        del new_slices[hm_slices]\n",
    "        new_slices[hm_slices-1] = new_val\n",
    "\n",
    "    if len(new_slices) == hm_slices+1:\n",
    "        new_val = list(map(mean, zip(*[new_slices[hm_slices-1],new_slices[hm_slices],])))\n",
    "        del new_slices[hm_slices]\n",
    "        new_slices[hm_slices-1] = new_val\n",
    "    \n",
    "    #showing resized pictures\n",
    "    #fig = plt.figure()\n",
    "    #for num,each_slice in enumerate(new_slices):\n",
    "    #    y = fig.add_subplot(4,5,num+1)\n",
    "    #    y.imshow(each_slice, cmap='gray')\n",
    "    #plt.show()\n",
    "    \n",
    "    return np.array(new_slices)"
   ]
  },
  {
   "cell_type": "code",
   "execution_count": 11,
   "metadata": {
    "collapsed": false
   },
   "outputs": [],
   "source": [
    "data_dir = '../4D-Lung/'\n",
    "#patient 0\n",
    "path = data_dir + '100_HM10395/1.3.6.1.4.1.14519.5.2.1.6834.5010.465205689126985052184293614571/'\n",
    "\n",
    "folders = [x[0] for x in os.walk(path)]\n",
    "del folders[0]\n",
    "#folders[:10]\n",
    "\n",
    "data = []\n",
    "data_index = [8,3,1,6,5,2,7,9,4,0]\n",
    "\n",
    "for num,folder in enumerate(folders[:10]):\n",
    "    img_data=process_data(folder,img_px_size=IMG_PX_SIZE, hm_slices=HM_SLICES)\n",
    "    #print(img_data.shape)\n",
    "    data.append(img_data)\n",
    "\n",
    "data_sorted = [x for y, x in sorted(zip(data_index,data))]\n",
    "np.save('data-{}-{}-{}.npy'.format(IMG_PX_SIZE,IMG_PX_SIZE,HM_SLICES), data_sorted)"
   ]
  },
  {
   "cell_type": "code",
   "execution_count": 13,
   "metadata": {
    "collapsed": false
   },
   "outputs": [],
   "source": [
    "def resize_seg(data, img_px_size=160, hm_slices=24):\n",
    "    new_slices = []\n",
    "    \n",
    "    data_seg = []\n",
    "    for num in range(141):\n",
    "        #print(data.shape)\n",
    "        data1 = np.array(data)[:,:,num]\n",
    "        data_seg.append(cv2.resize(data1,(img_px_size,img_px_size)))\n",
    "\n",
    "    chunk_sizes = math.ceil(142 / hm_slices)\n",
    "\n",
    "    for slice_chunk in chunks(data_seg, chunk_sizes):\n",
    "        slice_chunk = list(map(mean, zip(*slice_chunk)))\n",
    "        new_slices.append(slice_chunk)\n",
    "        \n",
    "    if len(new_slices) == hm_slices-1:\n",
    "        new_slices.append(new_slices[-1])\n",
    "\n",
    "    if len(new_slices) == hm_slices-2:\n",
    "        new_slices.append(new_slices[-1])\n",
    "        new_slices.append(new_slices[-1])\n",
    "\n",
    "    if len(new_slices) == hm_slices+2:\n",
    "        new_val = list(map(mean, zip(*[new_slices[hm_slices-1],new_slices[hm_slices],])))\n",
    "        del new_slices[hm_slices]\n",
    "        new_slices[hm_slices-1] = new_val\n",
    "\n",
    "    if len(new_slices) == hm_slices+1:\n",
    "        new_val = list(map(mean, zip(*[new_slices[hm_slices-1],new_slices[hm_slices],])))\n",
    "        del new_slices[hm_slices]\n",
    "        new_slices[hm_slices-1] = new_val\n",
    "    \n",
    "    #showing resized pictures\n",
    "    #fig = plt.figure()\n",
    "    #for num,each_slice in enumerate(new_slices):\n",
    "    #    y = fig.add_subplot(4,5,num+1)\n",
    "    #    y.imshow(each_slice, cmap='gray')\n",
    "    #plt.show()\n",
    "    \n",
    "    return np.array(new_slices)"
   ]
  },
  {
   "cell_type": "code",
   "execution_count": null,
   "metadata": {
    "collapsed": false
   },
   "outputs": [
    {
     "name": "stdout",
     "output_type": "stream",
     "text": [
      "['0-cancer.csv', '10-cancer.csv', '20-cancer.csv', '30-cancer.csv', '40-cancer.csv', '50-cancer.csv', '60-cancer.csv', '70-cancer.csv', '80-cancer.csv', '90-cancer.csv']\n",
      "../patient0-segmented/0-cancer.csv\n",
      "../patient0-segmented/10-cancer.csv\n",
      "../patient0-segmented/20-cancer.csv\n",
      "../patient0-segmented/30-cancer.csv\n",
      "../patient0-segmented/40-cancer.csv\n",
      "../patient0-segmented/50-cancer.csv\n",
      "../patient0-segmented/60-cancer.csv\n",
      "../patient0-segmented/70-cancer.csv\n",
      "../patient0-segmented/80-cancer.csv\n",
      "../patient0-segmented/90-cancer.csv\n"
     ]
    }
   ],
   "source": [
    "data_seg_dir = '../patient0-segmented/'\n",
    "\n",
    "files = [x for x in os.listdir(data_seg_dir)]\n",
    "\n",
    "print(files)\n",
    "\n",
    "data_seg = []\n",
    "for num,file in enumerate(data_seg_dir):\n",
    "    if num>=10:\n",
    "        break\n",
    "    print(data_seg_dir + str(num*10) + '-cancer.csv')\n",
    "    seg_data = np.genfromtxt(data_seg_dir + str(num*10) + '-cancer.csv',delimiter=\",\")\n",
    "    seg_data = seg_data.reshape((512,512,142))\n",
    "    #print(seg_data.shape)\n",
    "    seg_data = resize_seg(seg_data)\n",
    "    data_seg.append(seg_data)\n",
    "\n",
    "np.save('segdata-{}-{}-{}.npy'.format(IMG_PX_SIZE,IMG_PX_SIZE,HM_SLICES), data_seg)"
   ]
  },
  {
   "cell_type": "code",
   "execution_count": 26,
   "metadata": {
    "collapsed": false
   },
   "outputs": [
    {
     "name": "stdout",
     "output_type": "stream",
     "text": [
      "2\n",
      "24\n"
     ]
    }
   ],
   "source": [
    "print(len(data_seg))\n",
    "print(len(data_seg[0]))\n",
    "np.save('segdata-{}-{}-{}.npy'.format(IMG_PX_SIZE,IMG_PX_SIZE,HM_SLICES), data_seg)"
   ]
  },
  {
   "cell_type": "code",
   "execution_count": 30,
   "metadata": {
    "collapsed": false
   },
   "outputs": [
    {
     "name": "stdout",
     "output_type": "stream",
     "text": [
      "(3, 24, 160, 160)\n",
      "(3, 1, 24, 160, 160)\n",
      "(1, 1, 24, 160, 160)\n",
      "(1, 24, 160, 160)\n"
     ]
    }
   ],
   "source": [
    "data = np.load('data-160-160-24.npy')\n",
    "seg_data = np.load('segdata-160-160-24.npy')\n",
    "\n",
    "print(seg_data.shape)\n",
    "\n",
    "data = np.expand_dims(data, axis=1)\n",
    "seg_data = np.expand_dims(seg_data, axis=1)\n",
    "print(seg_data.shape)\n",
    "\n",
    "\n",
    "train_data = data[:-2]\n",
    "validation_data = data[-2:]\n",
    "train_seg = seg_data[:-2]\n",
    "validation_seg = seg_data[-2:]\n",
    "\n",
    "print(train_seg.shape)\n",
    "for x in train_seg:\n",
    "    print(x.shape)"
   ]
  },
  {
   "cell_type": "code",
   "execution_count": null,
   "metadata": {
    "collapsed": true
   },
   "outputs": [],
   "source": []
  }
 ],
 "metadata": {
  "kernelspec": {
   "display_name": "Python 3",
   "language": "python",
   "name": "python3"
  },
  "language_info": {
   "codemirror_mode": {
    "name": "ipython",
    "version": 3
   },
   "file_extension": ".py",
   "mimetype": "text/x-python",
   "name": "python",
   "nbconvert_exporter": "python",
   "pygments_lexer": "ipython3",
   "version": "3.6.0"
  }
 },
 "nbformat": 4,
 "nbformat_minor": 2
}
