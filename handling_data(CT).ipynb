{
 "cells": [
  {
   "cell_type": "code",
   "execution_count": 3,
   "metadata": {
    "collapsed": false
   },
   "outputs": [],
   "source": [
    "import dicom\n",
    "import os\n",
    "import matplotlib.pyplot as plt\n",
    "import cv2\n",
    "import numpy as np"
   ]
  },
  {
   "cell_type": "code",
   "execution_count": 4,
   "metadata": {
    "collapsed": true
   },
   "outputs": [],
   "source": [
    "import math\n",
    "\n",
    "def chunks(l, n):\n",
    "    for i in range(0, len(l), n):\n",
    "        yield l[i:i + n]\n",
    "\n",
    "def mean(l):\n",
    "    return sum(l) / len(l)\n",
    "\n",
    "IMG_PX_SIZE = 150\n",
    "HM_SLICES = 20"
   ]
  },
  {
   "cell_type": "code",
   "execution_count": 5,
   "metadata": {
    "collapsed": true
   },
   "outputs": [],
   "source": [
    "def process_data(patient,img_px_size=50, hm_slices=20):\n",
    "    \n",
    "    slices = [dicom.read_file(folder + '/' + s) for s in os.listdir(folder)]\n",
    "    slices.sort(key = lambda x: int(x.ImagePositionPatient[2]))\n",
    "    \n",
    "    #info about picture\n",
    "    #print(slices[0])\n",
    "    \n",
    "    #print array shape\n",
    "    #print(slices[0].pixel_array.shape, len(slices)) \n",
    "    \n",
    "    #show a slice of choice\n",
    "    #plt.imshow(slices[125].pixel_array)\n",
    "    #plt.show()\n",
    "    \n",
    "    #resizing to 150*150*20\n",
    "    new_slices = []\n",
    "\n",
    "    slices = [cv2.resize(np.array(each_slice.pixel_array),(img_px_size,img_px_size)) for each_slice in slices]\n",
    "\n",
    "    chunk_sizes = math.ceil(len(slices) / hm_slices)\n",
    "\n",
    "    for slice_chunk in chunks(slices, chunk_sizes):\n",
    "        slice_chunk = list(map(mean, zip(*slice_chunk)))\n",
    "        new_slices.append(slice_chunk)\n",
    "        \n",
    "    if len(new_slices) == hm_slices-1:\n",
    "        new_slices.append(new_slices[-1])\n",
    "\n",
    "    if len(new_slices) == hm_slices-2:\n",
    "        new_slices.append(new_slices[-1])\n",
    "        new_slices.append(new_slices[-1])\n",
    "\n",
    "    if len(new_slices) == hm_slices+2:\n",
    "        new_val = list(map(mean, zip(*[new_slices[hm_slices-1],new_slices[hm_slices],])))\n",
    "        del new_slices[hm_slices]\n",
    "        new_slices[hm_slices-1] = new_val\n",
    "\n",
    "    if len(new_slices) == hm_slices+1:\n",
    "        new_val = list(map(mean, zip(*[new_slices[hm_slices-1],new_slices[hm_slices],])))\n",
    "        del new_slices[hm_slices]\n",
    "        new_slices[hm_slices-1] = new_val\n",
    "    \n",
    "    #showing resized pictures\n",
    "    #fig = plt.figure()\n",
    "    #for num,each_slice in enumerate(new_slices):\n",
    "    #    y = fig.add_subplot(4,5,num+1)\n",
    "    #    y.imshow(each_slice, cmap='gray')\n",
    "    #plt.show()\n",
    "    \n",
    "    return np.array(new_slices)"
   ]
  },
  {
   "cell_type": "code",
   "execution_count": 6,
   "metadata": {
    "collapsed": false
   },
   "outputs": [],
   "source": [
    "data_dir = '../4D-Lung/'\n",
    "#patient 0\n",
    "path = data_dir + '100_HM10395/1.3.6.1.4.1.14519.5.2.1.6834.5010.465205689126985052184293614571/'\n",
    "\n",
    "folders = [x[0] for x in os.walk(path)]\n",
    "del folders[0]\n",
    "#folders[:10]\n",
    "\n",
    "data = []\n",
    "for num,folder in enumerate(folders[:10]):\n",
    "    img_data=process_data(folder,img_px_size=IMG_PX_SIZE, hm_slices=HM_SLICES)\n",
    "    #print(img_data.shape)\n",
    "    data.append(img_data)\n",
    "np.save('data-{}-{}-{}.npy'.format(IMG_PX_SIZE,IMG_PX_SIZE,HM_SLICES), data)"
   ]
  },
  {
   "cell_type": "code",
   "execution_count": 26,
   "metadata": {
    "collapsed": false
   },
   "outputs": [
    {
     "name": "stdout",
     "output_type": "stream",
     "text": [
      "(3006, 0016)  Contour Image Sequence   1 item(s) ---- \n",
      "   (0008, 1150) Referenced SOP Class UID            UI: CT Image Storage\n",
      "   (0008, 1155) Referenced SOP Instance UID         UI: 1.3.6.1.4.1.14519.5.2.1.6834.5010.253030671415928532753048243277\n",
      "   ---------\n",
      "(3006, 0042) Contour Geometric Type              CS: 'CLOSED_PLANAR'\n",
      "(3006, 0046) Number of Contour Points            IS: '175'\n",
      "(3006, 0050) Contour Data                        DS: ['-17.36', '1.53', '37.5', '-18.02', '1.89', '37.5', '-18.02', '1.89', '37.5', '-18.03', '1.89', '37.5', '-18.83', '1.96', '37.5', '-18.94', '1.97', '37.5', '-19.62', '2.04', '37.5', '-20.05', '2.12', '37.5', '-20.69', '2.34', '37.5', '-20.84', '2.4', '37.5', '-21.35', '2.52', '37.5', '-21.77', '2.64', '37.5', '-22.06', '2.66', '37.5', '-22.75', '2.7', '37.5', '-22.97', '2.7', '37.5', '-23.77', '2.7', '37.5', '-23.89', '2.7', '37.5', '-24.5', '2.68', '37.5', '-24.86', '2.22', '37.5', '-24.94', '2.11', '37.5', '-25.07', '2.09', '37.5', '-25.76', '1.83', '37.5', '-25.94', '1.8', '37.5', '-26.77', '1.99', '37.5', '-26.77', '1.99', '37.5', '-26.77', '1.99', '37.5', '-27.19', '2.43', '37.5', '-27.78', '2.65', '37.5', '-27.78', '2.65', '37.5', '-28.65', '2.7', '37.5', '-28.78', '2.7', '37.5', '-29.44', '2.61', '37.5', '-29.76', '2.45', '37.5', '-30.02', '2.28', '37.5', '-30.82', '2', '37.5', '-30.82', '2', '37.5', '-30.82', '2', '37.5', '-31.5', '2.03', '37.5', '-32.12', '2.39', '37.5', '-32.34', '2.51', '37.5', '-33.01', '2.84', '37.5', '-33.21', '2.99', '37.5', '-33.51', '3.1', '37.5', '-33.64', '3.19', '37.5', '-34.07', '3.5', '37.5', '-34.51', '3.94', '37.5', '-34.64', '4.06', '37.5', '-34.72', '4.16', '37.5', '-35.31', '4.74', '37.5', '-35.44', '4.91', '37.5', '-36.21', '5.79', '37.5', '-36.23', '5.82', '37.5', '-36.26', '5.83', '37.5', '-36.3', '5.86', '37.5', '-36.98', '6.41', '37.5', '-37.55', '6.77', '37.5', '-37.55', '6.77', '37.5', '-38.47', '6.83', '37.5', '-38.47', '6.83', '37.5', '-39.45', '6.83', '37.5', '-39.45', '6.83', '37.5', '-40.22', '6.62', '37.5', '-40.43', '6.48', '37.5', '-40.82', '6.21', '37.5', '-41.08', '5.91', '37.5', '-41.26', '5.71', '37.5', '-41.45', '5.55', '37.5', '-41.79', '5.23', '37.5', '-42.06', '4.94', '37.5', '-42.23', '4.73', '37.5', '-42.6', '4.12', '37.5', '-42.6', '4.12', '37.5', '-42.65', '3.19', '37.5', '-42.65', '3.19', '37.5', '-42.48', '2.37', '37.5', '-42.27', '2.11', '37.5', '-42.04', '1.83', '37.5', '-41.73', '1.19', '37.5', '-41.73', '1.19', '37.5', '-41.73', '1.19', '37.5', '-41.5', '0.41', '37.5', '-40.9', '-0.29', '37.5', '-40.9', '-0.29', '37.5', '-40.9', '-0.29', '37.5', '-39.94', '-0.93', '37.5', '-39.94', '-0.93', '37.5', '-38.78', '-1.51', '37.5', '-38.78', '-1.51', '37.5', '-38.78', '-1.51', '37.5', '-37.77', '-2.45', '37.5', '-37.77', '-2.45', '37.5', '-37.77', '-2.45', '37.5', '-37.76', '-2.46', '37.5', '-36.71', '-3.51', '37.5', '-36.65', '-3.62', '37.5', '-36.53', '-3.68', '37.5', '-35.41', '-4.8', '37.5', '-35.41', '-4.81', '37.5', '-35.41', '-4.81', '37.5', '-35.41', '-4.81', '37.5', '-34.92', '-5.46', '37.5', '-34.09', '-5.84', '37.5', '-33.89', '-5.88', '37.5', '-33.64', '-5.88', '37.5', '-31.42', '-6.13', '37.5', '-31.42', '-6.13', '37.5', '-31.42', '-6.13', '37.5', '-31.42', '-6.13', '37.5', '-31.41', '-6.13', '37.5', '-29.71', '-6.86', '37.5', '-29.48', '-6.95', '37.5', '-28.88', '-7.31', '37.5', '-28.33', '-7.85', '37.5', '-28.22', '-7.93', '37.5', '-28.16', '-8.04', '37.5', '-27.94', '-8.32', '37.5', '-27.49', '-8.86', '37.5', '-27.29', '-9.06', '37.5', '-26.94', '-9.32', '37.5', '-26.67', '-9.64', '37.5', '-26.45', '-9.89', '37.5', '-26.24', '-10.18', '37.5', '-26.01', '-10.46', '37.5', '-25.29', '-10.8', '37.5', '-25.29', '-10.8', '37.5', '-24.37', '-10.75', '37.5', '-24.37', '-10.75', '37.5', '-23.6', '-10.54', '37.5', '-23.36', '-10.38', '37.5', '-23.1', '-10.2', '37.5', '-22.57', '-9.93', '37.5', '-22.37', '-9.89', '37.5', '-21.61', '-9.95', '37.5', '-21.41', '-9.91', '37.5', '-20.7', '-9.83', '37.5', '-20.53', '-9.69', '37.5', '-20.03', '-9.4', '37.5', '-19.71', '-9.16', '37.5', '-19.53', '-9.1', '37.5', '-18.78', '-8.85', '37.5', '-18.78', '-8.85', '37.5', '-18.78', '-8.85', '37.5', '-18.1', '-8.53', '37.5', '-17.93', '-8.36', '37.5', '-17.54', '-8.15', '37.5', '-17.06', '-7.95', '37.5', '-16.87', '-7.94', '37.5', '-16.26', '-7.57', '37.5', '-16.16', '-7.54', '37.5', '-16.12', '-7.44', '37.5', '-15.7', '-7.01', '37.5', '-15.26', '-6.4', '37.5', '-15.26', '-6.4', '37.5', '-15.26', '-6.4', '37.5', '-15.09', '-5.38', '37.5', '-15.09', '-5.38', '37.5', '-15.09', '-4.4', '37.5', '-15.09', '-4.4', '37.5', '-15.09', '-3.52', '37.5', '-15.1', '-3.42', '37.5', '-15.18', '-2.87', '37.5', '-15.21', '-2.4', '37.5', '-15.22', '-2.33', '37.5', '-15.31', '-1.4', '37.5', '-15.31', '-0.5', '37.5', '-15.31', '-0.5', '37.5', '-15.31', '-0.5', '37.5', '-15.47', '0.32', '37.5', '-15.5', '0.37', '37.5', '-16.04', '0.81', '37.5', '-16.1', '0.83', '37.5', '-16.27', '0.89', '37.5', '-16.73', '1.05', '37.5', '-17.02', '1.28', '37.5', '-17.26', '1.46', '37.5']\n"
     ]
    }
   ],
   "source": [
    "for folder in folders[10:11]:\n",
    "    rtss = dicom.read_file(folder + '/' + os.listdir(folder)[0])\n",
    "    #print(rtss)\n",
    "    #expected = '1.2.840.10008.1.2'  # implVR little endian\n",
    "    #got = rtss.file_meta.TransferSyntaxUID\n",
    "    #msg = \"Expected transfer syntax %r, got %r\" % (expected, got)\n",
    "    #frame_of_ref = rtss.ReferencedFrameOfReferenceSequence[0]\n",
    "    #study = frame_of_ref.RTReferencedStudySequence[0]\n",
    "    #uid = study.RTReferencedSeriesSequence[0].SeriesInstanceUID\n",
    "    #expected = \"1.2.826.0.1.3680043.8.498.2010020400001.2.1.1\"\n",
    "    #msg = \"Expected Reference Series UID '%s', got '%s'\" % (expected, uid)\n",
    "\n",
    "    got = rtss.ROIContourSequence[10].ContourSequence[2]\n",
    "    print(got)\n",
    "    #expected = 3\n",
    "    #msg = \"Expected Contour Number %d, got %r\" % (expected, got)\n",
    "\n",
    "    #obs_seq0 = rtss.RTROIObservationsSequence[0]\n",
    "    #got = obs_seq0.ROIPhysicalPropertiesSequence[0].ROIPhysicalProperty\n",
    "    #expected = 'REL_ELEC_DENSITY'\n",
    "    #msg = \"Expected Physical Property '%s', got %r\" % (expected, got)\n",
    "    #folder\n",
    "    #os.listdir(folder)\n",
    "    #slices = [dicom.read_file(folder + '/' + s) for s in os.listdir(folder)]\n",
    "    #slices.sort(key = lambda x: int(x.ImagePositionPatient[2]))\n",
    "    #print(len(slices))\n",
    "    #print(slices[0])"
   ]
  },
  {
   "cell_type": "code",
   "execution_count": null,
   "metadata": {
    "collapsed": true
   },
   "outputs": [],
   "source": []
  }
 ],
 "metadata": {
  "kernelspec": {
   "display_name": "Python 3",
   "language": "python",
   "name": "python3"
  },
  "language_info": {
   "codemirror_mode": {
    "name": "ipython",
    "version": 3
   },
   "file_extension": ".py",
   "mimetype": "text/x-python",
   "name": "python",
   "nbconvert_exporter": "python",
   "pygments_lexer": "ipython3",
   "version": "3.6.0"
  }
 },
 "nbformat": 4,
 "nbformat_minor": 2
}
