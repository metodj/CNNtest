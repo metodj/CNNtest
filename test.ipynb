{
 "cells": [
  {
   "cell_type": "code",
   "execution_count": 1,
   "metadata": {
    "collapsed": false
   },
   "outputs": [],
   "source": [
    "import matplotlib\n",
    "import matplotlib.pyplot as plt\n",
    "import matplotlib.cm as cm\n",
    "\n",
    "#from urllib import urlretrieve\n",
    "#import cPickle as pickle\n",
    "import os\n",
    "#import gzip\n",
    "\n",
    "import numpy as np\n",
    "import theano\n",
    "\n",
    "import lasagne\n",
    "from lasagne import layers\n",
    "from lasagne.updates import adam\n",
    "\n",
    "#from nolearn.lasagne import NeuralNet\n",
    "#from nolearn.lasagne import visualize\n",
    "\n",
    "#from ConvTranspose import Conv3DLayerTransposed\n",
    "\n",
    "#from sklearn.metrics import classification_report\n",
    "#from sklearn.metrics import confusion_matrix"
   ]
  },
  {
   "cell_type": "code",
   "execution_count": null,
   "metadata": {
    "collapsed": true
   },
   "outputs": [],
   "source": []
  },
  {
   "cell_type": "code",
   "execution_count": 2,
   "metadata": {
    "collapsed": false
   },
   "outputs": [],
   "source": [
    "import theano.tensor as T\n",
    "\n",
    "from lasagne import init\n",
    "from lasagne import nonlinearities\n",
    "from lasagne.utils import as_tuple\n",
    "from lasagne.theano_extensions import conv\n",
    "\n",
    "from lasagne.layers.base import Layer\n",
    "\n",
    "def conv_output_length(input_length, filter_size, stride, pad=0):\n",
    "    if input_length is None:\n",
    "        return None\n",
    "    if pad == 'valid':\n",
    "        output_length = input_length - filter_size + 1\n",
    "    elif pad == 'full':\n",
    "        output_length = input_length + filter_size - 1\n",
    "    elif pad == 'same':\n",
    "        output_length = input_length\n",
    "    elif isinstance(pad, int):\n",
    "        output_length = input_length + 2 * pad - filter_size + 1\n",
    "    else:\n",
    "        raise ValueError('Invalid pad: {0}'.format(pad))\n",
    "\n",
    "    # This is the integer arithmetic equivalent to\n",
    "    # np.ceil(output_length / stride)\n",
    "    output_length = (output_length + stride - 1) // stride\n",
    "\n",
    "    return output_length\n",
    "\n",
    "\n",
    "def conv_input_length(output_length, filter_size, stride, pad=0):\n",
    "      \n",
    "    if output_length is None:\n",
    "        return None\n",
    "    if pad == 'valid':\n",
    "        pad = 0\n",
    "    elif pad == 'full':\n",
    "        pad = filter_size - 1\n",
    "    elif pad == 'same':\n",
    "        pad = filter_size // 2\n",
    "    if not isinstance(pad, int):\n",
    "        raise ValueError('Invalid pad: {0}'.format(pad))\n",
    "    return (output_length - 1) * stride - 2 * pad + filter_size\n",
    "\n",
    "\n",
    "class BaseConvLayer(Layer):\n",
    "    def __init__(self, incoming, num_filters, filter_size, stride=1, pad=0,\n",
    "                 untie_biases=False,\n",
    "                 W=init.GlorotUniform(), b=init.Constant(0.),\n",
    "                 nonlinearity=nonlinearities.rectify, flip_filters=True,\n",
    "                 n=None, **kwargs):\n",
    "        super(BaseConvLayer, self).__init__(incoming, **kwargs)\n",
    "        if nonlinearity is None:\n",
    "            self.nonlinearity = nonlinearities.identity\n",
    "        else:\n",
    "            self.nonlinearity = nonlinearity\n",
    "\n",
    "        if n is None:\n",
    "            n = len(self.input_shape) - 2\n",
    "        elif n != len(self.input_shape) - 2:\n",
    "            raise ValueError(\"Tried to create a %dD convolution layer with \"\n",
    "                             \"input shape %r. Expected %d input dimensions \"\n",
    "                             \"(batchsize, channels, %d spatial dimensions).\" %\n",
    "                             (n, self.input_shape, n+2, n))\n",
    "        self.n = n\n",
    "        self.num_filters = num_filters\n",
    "        self.filter_size = as_tuple(filter_size, n, int)\n",
    "        self.flip_filters = flip_filters\n",
    "        self.stride = as_tuple(stride, n, int)\n",
    "        self.untie_biases = untie_biases\n",
    "\n",
    "        if pad == 'same':\n",
    "            if any(s % 2 == 0 for s in self.filter_size):\n",
    "                raise NotImplementedError(\n",
    "                    '`same` padding requires odd filter size.')\n",
    "        if pad == 'valid':\n",
    "            self.pad = as_tuple(0, n)\n",
    "        elif pad in ('full', 'same'):\n",
    "            self.pad = pad\n",
    "        else:\n",
    "            self.pad = as_tuple(pad, n, int)\n",
    "\n",
    "        self.W = self.add_param(W, self.get_W_shape(), name=\"W\")\n",
    "        if b is None:\n",
    "            self.b = None\n",
    "        else:\n",
    "            if self.untie_biases:\n",
    "                biases_shape = (num_filters,) + self.output_shape[2:]\n",
    "            else:\n",
    "                biases_shape = (num_filters,)\n",
    "            self.b = self.add_param(b, biases_shape, name=\"b\",\n",
    "                                    regularizable=False)\n",
    "\n",
    "    def get_W_shape(self):\n",
    "        \"\"\"Get the shape of the weight matrix `W`.\n",
    "        Returns\n",
    "        -------\n",
    "        tuple of int\n",
    "            The shape of the weight matrix.\n",
    "        \"\"\"\n",
    "        num_input_channels = self.input_shape[1]\n",
    "        return (self.num_filters, num_input_channels) + self.filter_size\n",
    "\n",
    "    def get_output_shape_for(self, input_shape):\n",
    "        pad = self.pad if isinstance(self.pad, tuple) else (self.pad,) * self.n\n",
    "        batchsize = input_shape[0]\n",
    "        return ((batchsize, self.num_filters) +\n",
    "                tuple(conv_output_length(input, filter, stride, p)\n",
    "                      for input, filter, stride, p\n",
    "                      in zip(input_shape[2:], self.filter_size,\n",
    "                             self.stride, pad)))\n",
    "\n",
    "    def get_output_for(self, input, **kwargs):\n",
    "        conved = self.convolve(input, **kwargs)\n",
    "\n",
    "        if self.b is None:\n",
    "            activation = conved\n",
    "        elif self.untie_biases:\n",
    "            activation = conved + T.shape_padleft(self.b, 1)\n",
    "        else:\n",
    "            activation = conved + self.b.dimshuffle(('x', 0) + ('x',) * self.n)\n",
    "\n",
    "        return self.nonlinearity(activation)\n",
    "\n",
    "    def convolve(self, input, **kwargs):\n",
    "        \"\"\"\n",
    "        Symbolically convolves `input` with ``self.W``, producing an output of\n",
    "        shape ``self.output_shape``. To be implemented by subclasses.\n",
    "        Parameters\n",
    "        ----------\n",
    "        input : Theano tensor\n",
    "            The input minibatch to convolve\n",
    "        **kwargs\n",
    "            Any additional keyword arguments from :meth:`get_output_for`\n",
    "        Returns\n",
    "        -------\n",
    "        Theano tensor\n",
    "            `input` convolved according to the configuration of this layer,\n",
    "            without any bias or nonlinearity applied.\n",
    "        \"\"\"\n",
    "        raise NotImplementedError(\"BaseConvLayer does not implement the \"\n",
    "                                  \"convolve() method. You will want to \"\n",
    "                                  \"use a subclass such as Conv2DLayer.\")\n",
    "\n",
    "class Conv3DLayerTransposed(BaseConvLayer):\n",
    "\n",
    "    #pad spremenim v crop, flip_filters nastavim na True, spremenim super()\n",
    "    def __init__(self, incoming, num_filters, filter_size, stride=(1, 1, 1),\n",
    "                 crop=0, untie_biases=False,\n",
    "                 W=init.GlorotUniform(), b=init.Constant(0.),\n",
    "                 nonlinearity=nonlinearities.rectify, flip_filters=False,\n",
    "                 convolution=T.nnet.ConvTransp3D, output_size=None, **kwargs):\n",
    "        super(Conv3DLayerTransposed, self).__init__(incoming, num_filters, filter_size,\n",
    "                                          stride, crop, untie_biases, W, b,\n",
    "                                          nonlinearity, flip_filters, n=3,\n",
    "                                          **kwargs)\n",
    "        self.crop = self.pad\n",
    "        del self.pad\n",
    "        self.convolution = convolution\n",
    "        self.output_size = output_size\n",
    "        \n",
    "    def get_W_shape(self):\n",
    "        num_input_channels = self.input_shape[1]\n",
    "        # first two sizes are swapped compared to a forward convolution\n",
    "        return (num_input_channels, self.num_filters) + self.filter_size\n",
    "    \n",
    "    def get_output_shape_for(self, input_shape):\n",
    "        #if self.output_size is not None:\n",
    "         #   size = self.output_size\n",
    "        #     if isinstance(self.output_size, T.Variable):\n",
    "        #        size = (None, None)\n",
    "        #    return input_shape[0], self.num_filters, size[0], size[1]\n",
    "\n",
    "        # If self.output_size is not specified, return the smallest shape\n",
    "        # when called from the constructor, self.crop is still called self.pad:\n",
    "        crop = getattr(self, 'crop', getattr(self, 'pad', None))\n",
    "        crop = crop if isinstance(crop, tuple) else (crop,) * self.n\n",
    "        batchsize = input_shape[0]\n",
    "        return ((batchsize, self.num_filters) +\n",
    "                tuple(conv_input_length(input, filter, stride, p)\n",
    "                      for input, filter, stride, p\n",
    "                      in zip(input_shape[2:], self.filter_size,\n",
    "                             self.stride, crop)))\n",
    "\n",
    "    #pad v crop, filter_flip nastavim na not \n",
    "    #def convolve(self, input, **kwargs):\n",
    "    #    border_mode = 'half' if self.crop == 'same' else self.crop\n",
    "    #    conved = self.convolution(input, self.W, self.input_shape, self.get_W_shape(),\n",
    "    #                              subsample=self.stride,\n",
    "    #                              border_mode=border_mode,\n",
    "    #                              filter_flip=not self.flip_filters)\n",
    "    #    return conved\n",
    "    \n",
    "    def convolve(self, input, **kwargs):\n",
    "        border_mode = 'half' if self.crop == 'same' else self.crop\n",
    "        op = T.nnet.abstract_conv.AbstractConv3d_gradInputs(\n",
    "            imshp=self.output_shape,\n",
    "            kshp=self.get_W_shape(),\n",
    "            subsample=self.stride, border_mode=border_mode,\n",
    "            filter_flip=not self.flip_filters)\n",
    "        output_size = self.output_shape[2:]\n",
    "        if isinstance(self.output_size, T.Variable):\n",
    "            output_size = self.output_size\n",
    "        elif any(s is None for s in output_size):\n",
    "            output_size = self.get_output_shape_for(input.shape)[2:]\n",
    "        conved = op(self.W, input, output_size)\n",
    "        return conved"
   ]
  },
  {
   "cell_type": "code",
   "execution_count": 9,
   "metadata": {
    "collapsed": false
   },
   "outputs": [],
   "source": [
    "def contracting_block(layer):\n",
    "    #ugotovi num_filters, padding\n",
    "    layer = layers.Conv3DLayer(layer, num_filters=1, filter_size=(2, 2, 2), stride=2, pad=0, W=lasagne.init.Normal(), nonlinearity=None)\n",
    "    #print(theano.tensor.shape(lasagne.layers.get_output(layer)))\n",
    "    tmp_layer = layer\n",
    "    #ugotovi primeren batch norm layer\n",
    "    layer = layers.BatchNormLayer(layer)\n",
    "    #ugotovi primeren prelu layer\n",
    "    layer = layers.ParametricRectifierLayer(layer, alpha=init.Constant(0))\n",
    "    #ugotovi num_filters, padding\n",
    "    layer = layers.Conv3DLayer(layer, num_filters=1, filter_size=(3, 3, 3), stride=1, pad=1, W=lasagne.init.Normal(), nonlinearity=None)\n",
    "    #print(theano.tensor.shape(lasagne.layers.get_output(layer)))\n",
    "    layer = layers.ElemwiseSumLayer([layer, tmp_layer])\n",
    "    layer = layers.batch_norm(layer)\n",
    "    layer = layers.ParametricRectifierLayer(layer, alpha=init.Constant(0))\n",
    "    return layer\n",
    "    "
   ]
  },
  {
   "cell_type": "code",
   "execution_count": 3,
   "metadata": {
    "collapsed": true
   },
   "outputs": [],
   "source": [
    "def start(input):\n",
    "    layer = layers.Conv3DLayer(input, num_filters=4, filter_size=(3, 3, 3), stride=1, pad=1, W=lasagne.init.Normal(), nonlinearity=None)\n",
    "    #print(theano.tensor.shape(lasagne.layers.get_output(layer)))\n",
    "    #print(theano.tensor.shape(lasagne.layers.get_output(layer)))\n",
    "    layer = layers.BatchNormLayer(layer)\n",
    "    layer = layers.ParametricRectifierLayer(layer, alpha=init.Constant(0))\n",
    "    return layer"
   ]
  },
  {
   "cell_type": "code",
   "execution_count": 4,
   "metadata": {
    "collapsed": false
   },
   "outputs": [],
   "source": [
    "def expanding_block(layer, tmp):\n",
    "    # dodaj feature merging block\n",
    "    layer = layers.Conv3DLayer(layer, num_filters=1, filter_size=(1, 1, 1), stride=1, pad=0, W=lasagne.init.Normal(), nonlinearity=None)\n",
    "    layer = layers.BatchNormLayer(layer)\n",
    "    layer = layers.ParametricRectifierLayer(layer, alpha=init.Constant(0))\n",
    "    # kako deluje deconvolutional layer --> DEKONVOLUCIJA\n",
    "    #layer = layers.Conv3DLayer(layer, num_filters=1, filter_size=(1, 1, 1), stride=1, pad=0.5)\n",
    "    layer = Conv3DLayerTransposed(layer, num_filters=1, filter_size=(2, 2, 2), stride=2, crop=0, W=lasagne.init.Normal(), nonlinearity=None)\n",
    "    layer = layers.BatchNormLayer(layer)\n",
    "    layer = layers.ParametricRectifierLayer(layer, alpha=init.Constant(0))\n",
    "    layer = layers.ConcatLayer([layer, tmp])\n",
    "    #layer = layers.ElemwiseSumLayer([layer, tmp])\n",
    "    layer = layers.Conv3DLayer(layer, num_filters=1, filter_size=(3, 3, 3), stride=1, pad=1, W=lasagne.init.Normal(), nonlinearity=None)\n",
    "    layer = layers.BatchNormLayer(layer)\n",
    "    layer = layers.ParametricRectifierLayer(layer, alpha=init.Constant(0))\n",
    "    return layer"
   ]
  },
  {
   "cell_type": "code",
   "execution_count": 5,
   "metadata": {
    "collapsed": true
   },
   "outputs": [],
   "source": [
    "def expanding_final(layer, tmp):\n",
    "    # dodaj feature merging block\n",
    "    layer = layers.Conv3DLayer(layer, num_filters=1, filter_size=(1, 1, 1), stride=1, pad=0, W=lasagne.init.Normal(), nonlinearity=None)\n",
    "    layer = layers.BatchNormLayer(layer)\n",
    "    layer = layers.ParametricRectifierLayer(layer, alpha=init.Constant(0))\n",
    "    # kako deluje deconvolutional layer --> DEKONVOLUCIJA\n",
    "    #layer = layers.Conv3DLayer(layer, num_filters=1, filter_size=(1, 1, 1), stride=1, pad=0.5)\n",
    "    layer = Conv3DLayerTransposed(layer, num_filters=1, filter_size=(2, 2, 2), stride=2, crop=0, W=lasagne.init.Normal(), nonlinearity=None)\n",
    "    layer = layers.BatchNormLayer(layer)\n",
    "    layer = layers.ParametricRectifierLayer(layer, alpha=init.Constant(0))\n",
    "    layer = layers.ConcatLayer([layer, tmp])\n",
    "    #layer = layers.ElemwiseSumLayer([layer, tmp])\n",
    "    layer = layers.Conv3DLayer(layer, num_filters=1, filter_size=(3, 3, 3), stride=1, pad=1, W=lasagne.init.Normal(), nonlinearity=None)\n",
    "    layer = layers.BatchNormLayer(layer)\n",
    "    layer = layers.NonlinearityLayer(layer, nonlinearity=lasagne.nonlinearities.sigmoid)\n",
    "    \n",
    "    return layer"
   ]
  },
  {
   "cell_type": "code",
   "execution_count": 3,
   "metadata": {
    "collapsed": true
   },
   "outputs": [],
   "source": [
    "def align_targets(predictions, targets):\n",
    "    \"\"\"Helper function turning a target 1D vector into a column if needed.\n",
    "    This way, combining a network of a single output unit with a target vector\n",
    "    works as expected by most users, not broadcasting outputs against targets.\n",
    "    Parameters\n",
    "    ----------\n",
    "    predictions : Theano tensor\n",
    "        Expression for the predictions of a neural network.\n",
    "    targets : Theano tensor\n",
    "        Expression or variable for corresponding targets.\n",
    "    Returns\n",
    "    -------\n",
    "    predictions : Theano tensor\n",
    "        The predictions unchanged.\n",
    "    targets : Theano tensor\n",
    "        If `predictions` is a column vector and `targets` is a 1D vector,\n",
    "        returns `targets` turned into a column vector. Otherwise, returns\n",
    "        `targets` unchanged.\n",
    "    \"\"\"\n",
    "    if (getattr(predictions, 'broadcastable', None) == (False, True) and\n",
    "            getattr(targets, 'ndim', None) == 1):\n",
    "        targets = as_theano_expression(targets).dimshuffle(0, 'x')\n",
    "    return predictions, targets\n",
    "\n",
    "def binary_jaccard_index(predictions,targets):\n",
    "    predictions,targets = align_targets(predictions, targets)\n",
    "    intersection = theano.tensor.minimum(predictions, targets)\n",
    "    union = theano.tensor.maximum(predictions, targets)\n",
    "    return 1 - intersection.sum() / union.sum()"
   ]
  },
  {
   "cell_type": "code",
   "execution_count": 4,
   "metadata": {
    "collapsed": true
   },
   "outputs": [],
   "source": [
    "def binary_jaccard_index1(predictions,targets):\n",
    "    predictions,targets = align_targets(predictions, targets)\n",
    "    intersection = theano.tensor.minimum(predictions, targets)\n",
    "    union = theano.tensor.maximum(predictions, targets)\n",
    "    return 1 - intersection.sum() / (predictions.sum()*predictions.sum() + targets.sum()*targets.sum() - intersection.sum())"
   ]
  },
  {
   "cell_type": "code",
   "execution_count": 5,
   "metadata": {
    "collapsed": true
   },
   "outputs": [],
   "source": [
    "def binary_jaccard_index2(predictions,targets):\n",
    "    predictions,targets = align_targets(predictions, targets)\n",
    "    predictions = theano.tensor.argmax(predictions, axis=1)\n",
    "    intersection = theano.tensor.minimum(predictions, targets)\n",
    "    union = theano.tensor.maximum(predictions, targets)\n",
    "    return 1 - intersection.sum() / union.sum()"
   ]
  },
  {
   "cell_type": "code",
   "execution_count": 6,
   "metadata": {
    "collapsed": true
   },
   "outputs": [],
   "source": [
    "def softmax(inputToSoftmax, inputToSoftmaxShape, numberOfOutputClasses, softmaxTemperature):\n",
    "    # The softmax function works on 2D tensors (matrices). It computes the softmax for each row. Rows are independent, eg different samples in the batch. Columns are the input features, eg class-scores.\n",
    "    # Softmax's input 2D matrix should have shape like: [ datasamples, #Classess ]\n",
    "    # My class-scores/class-FMs are a 5D tensor (batchSize, #Classes, r, c, z).\n",
    "    # I need to reshape it to a 2D tensor.\n",
    "    # The reshaped 2D Tensor will have dimensions: [ batchSize * r * c * z , #Classses ]\n",
    "    # The order of the elements in the rows after the reshape should be :\n",
    "     \n",
    "    inputToSoftmaxReshaped = inputToSoftmax.dimshuffle(0, 2, 3, 4, 1) # [batchSize, r, c, z, #classes), the classes stay as the last dimension.\n",
    "    inputToSoftmaxFlattened = inputToSoftmaxReshaped.flatten(1) \n",
    "    # flatten is \"Row-major\" 'C' style. ie, starts from index [0,0,0] and grabs elements in order such that last dim index increases first and first index increases last. (first row flattened, then second follows, etc)\n",
    "    numberOfVoxelsDenselyClassified = inputToSoftmaxShape[2]*inputToSoftmaxShape[3]*inputToSoftmaxShape[4]\n",
    "    firstDimOfInputToSoftmax2d = inputToSoftmaxShape[0]*numberOfVoxelsDenselyClassified # batchSize*r*c*z.\n",
    "    inputToSoftmax2d = inputToSoftmaxFlattened.reshape((firstDimOfInputToSoftmax2d, numberOfOutputClasses)) # Reshape works in \"Row-major\", ie 'C' style too.\n",
    "    # Predicted probability per class.\n",
    "    p_y_given_x_2d = T.nnet.softmax(inputToSoftmax2d/softmaxTemperature)\n",
    "    # Segmentation (EM) for each voxel\n",
    "    y_pred_2d = T.argmax(p_y_given_x_2d, axis=1)\n",
    "     \n",
    "    p_y_given_x_classMinor = p_y_given_x_2d.reshape((inputToSoftmaxShape[0], inputToSoftmaxShape[2], inputToSoftmaxShape[3], inputToSoftmaxShape[4], inputToSoftmaxShape[1])) #Result: batchSize, R,C,Z, Classes.\n",
    " \n",
    "    p_y_given_x = p_y_given_x_classMinor.dimshuffle(0,4,1,2,3) #Result: batchSize, Class, R, C, Z\n",
    "    y_pred = y_pred_2d.reshape((inputToSoftmaxShape[0], inputToSoftmaxShape[2], inputToSoftmaxShape[3], inputToSoftmaxShape[4])) #Result: batchSize, R, C, Z\n",
    "     \n",
    "    #return also: p_y_given_x_2d_train = p_y_given_x_2d_train # For convenience in negativeLogLikelihood. Not sure how to implement more efficiently. It would get rid of this if I would.\n",
    "    #return ( p_y_given_x, y_pred )\n",
    "    return p_y_given_x"
   ]
  },
  {
   "cell_type": "code",
   "execution_count": 7,
   "metadata": {
    "collapsed": true
   },
   "outputs": [],
   "source": [
    "def binary_jaccard_index_test(predictions,targets):\n",
    "    #predictions,targets = align_targets(predictions, targets)\n",
    "    intersection = np.minimum(predictions, targets)\n",
    "    union = np.maximum(predictions, targets)\n",
    "    return 1 - intersection.sum() / union.sum()"
   ]
  },
  {
   "cell_type": "code",
   "execution_count": 8,
   "metadata": {
    "collapsed": true
   },
   "outputs": [],
   "source": [
    "#prikaze eno 3d sliko\n",
    "def display_numpy(picture):\n",
    "    fig = plt.figure()\n",
    "    for num,slice in enumerate(picture):\n",
    "        y = fig.add_subplot(4,6,num+1)\n",
    "        y.imshow(slice, cmap='gray')\n",
    "    plt.show()"
   ]
  },
  {
   "cell_type": "code",
   "execution_count": 9,
   "metadata": {
    "collapsed": false
   },
   "outputs": [
    {
     "name": "stdout",
     "output_type": "stream",
     "text": [
      "(10L, 1L, 24L, 160L, 160L)\n",
      "(10L, 1L, 24L, 160L, 160L)\n",
      "1.0\n",
      "(2L, 1L, 1L, 24L, 160L, 160L)\n"
     ]
    }
   ],
   "source": [
    "#load the data\n",
    "\n",
    "data = np.load('data-160-160-24.npy')\n",
    "seg_data = np.load('segdata-160-160-24.npy')\n",
    "\n",
    "data = np.expand_dims(data, axis=1)\n",
    "seg_data = np.expand_dims(seg_data, axis=1)\n",
    "#data = np.swapaxes(data,2,4)\n",
    "#seg_data = np.swapaxes(seg_data,2,4)\n",
    "\n",
    "print(data.shape)\n",
    "print(seg_data.shape)\n",
    "\n",
    "train_data = data[:8]\n",
    "test_data = data[8:]\n",
    "test_data = np.expand_dims(test_data, axis=1)\n",
    "train_seg = seg_data[:8]\n",
    "test_seg = seg_data[8:]\n",
    "test_seg = np.expand_dims(test_seg, axis=1)\n",
    "\n",
    "train_data /= np.max(train_data)\n",
    "print(np.max(train_data))\n",
    "print(test_data.shape)\n",
    "\n",
    "#display_numpy(train_data[1][0])\n",
    "#display_numpy(train_seg[1][0])\n",
    "#print(train_data[1][0][10][50][25:75])\n",
    "#print(train_seg[1][0][10][50][25:75])\n",
    "\n",
    "#for a in range(8):\n",
    "#    for i in range(24):\n",
    "#        for j in range(160):\n",
    "#            for k in range(160):\n",
    "#                if (train_seg[a][0][i][j][k]>0.5):\n",
    "#                    train_seg[a][0][i][j][k] = 1\n",
    "                    #print(str(i)+\" \"+str(j)+\" \"+str(k))\n",
    "#                else:\n",
    "#                    train_seg[a][0][i][j][k] = 0\n",
    "\n"
   ]
  },
  {
   "cell_type": "code",
   "execution_count": 8,
   "metadata": {
    "collapsed": false
   },
   "outputs": [
    {
     "data": {
      "text/plain": [
       "0"
      ]
     },
     "execution_count": 8,
     "metadata": {},
     "output_type": "execute_result"
    }
   ],
   "source": [
    "np.max(train_data)"
   ]
  },
  {
   "cell_type": "code",
   "execution_count": null,
   "metadata": {
    "collapsed": false
   },
   "outputs": [
    {
     "name": "stdout",
     "output_type": "stream",
     "text": [
      "Epoch 1: Loss 1.99785\n"
     ]
    }
   ],
   "source": [
    "input_var = theano.tensor.tensor5()\n",
    "target_var = theano.tensor.tensor5()\n",
    "\n",
    "\n",
    "layer = lasagne.layers.InputLayer((None, 1, 24, 160, 160), input_var)\n",
    "\n",
    "#start\n",
    "layer = layers.Conv3DLayer(layer, num_filters=8, filter_size=(3, 3, 3), stride=1, pad=1, W=lasagne.init.Normal(), nonlinearity=None)\n",
    "layer = layers.BatchNormLayer(layer)\n",
    "layer = layers.ParametricRectifierLayer(layer, alpha=init.Constant(0.1))\n",
    "\n",
    "tmp1 = layer\n",
    "\n",
    "#contracting_block 1\n",
    "layer = layers.Conv3DLayer(layer, num_filters=8, filter_size=(2, 2, 2), stride=2, pad=0, W=lasagne.init.Normal(), nonlinearity=None)\n",
    "tmp_layer1 = layer\n",
    "layer = layers.BatchNormLayer(layer)\n",
    "layer = layers.ParametricRectifierLayer(layer, alpha=init.Constant(0.1))\n",
    "layer = layers.Conv3DLayer(layer, num_filters=16, filter_size=(3, 3, 3), stride=1, pad=1, W=lasagne.init.Normal(), nonlinearity=None)\n",
    "layer = layers.ConcatLayer([layer, tmp_layer1])\n",
    "layer = layers.BatchNormLayer(layer)\n",
    "layer = layers.ParametricRectifierLayer(layer, alpha=init.Constant(0.1))\n",
    "\t\n",
    "tmp2 = layer\n",
    "\n",
    "#contracting_block 2\n",
    "layer = layers.Conv3DLayer(layer, num_filters=32, filter_size=(2, 2, 2), stride=2, pad=0, W=lasagne.init.Normal(), nonlinearity=None)\n",
    "tmp_layer2 = layer\n",
    "layer = layers.BatchNormLayer(layer)\n",
    "layer = layers.ParametricRectifierLayer(layer, alpha=init.Constant(0.1))\n",
    "layer = layers.Conv3DLayer(layer, num_filters=32, filter_size=(3, 3, 3), stride=1, pad=1, W=lasagne.init.Normal(), nonlinearity=None)\n",
    "layer = layers.ConcatLayer([layer, tmp_layer2])\n",
    "layer = layers.BatchNormLayer(layer)\n",
    "layer = layers.ParametricRectifierLayer(layer, alpha=init.Constant(0.1))\n",
    "\n",
    "tmp3 = layer\n",
    "\n",
    "#contracting_block 3\n",
    "layer = layers.Conv3DLayer(layer, num_filters=64, filter_size=(2, 2, 2), stride=2, pad=0, W=lasagne.init.Normal(), nonlinearity=None)\n",
    "tmp_layer3 = layer\n",
    "layer = layers.BatchNormLayer(layer)\n",
    "layer = layers.ParametricRectifierLayer(layer, alpha=init.Constant(0.1))\n",
    "layer = layers.Conv3DLayer(layer, num_filters=64, filter_size=(3, 3, 3), stride=1, pad=1, W=lasagne.init.Normal(), nonlinearity=None)\n",
    "layer = layers.ConcatLayer([layer, tmp_layer3])\n",
    "layer = layers.BatchNormLayer(layer)\n",
    "layer = layers.ParametricRectifierLayer(layer, alpha=init.Constant(0.1))\n",
    "\n",
    "#expanding_block 1\n",
    "layer = layers.Conv3DLayer(layer, num_filters=32, filter_size=(1, 1, 1), stride=1, pad=0, W=lasagne.init.Normal(), nonlinearity=None)\n",
    "layer = layers.BatchNormLayer(layer)\n",
    "layer = layers.ParametricRectifierLayer(layer, alpha=init.Constant(0.1))\n",
    "#število filtrov pri dekonvoluciji?\n",
    "layer = Conv3DLayerTransposed(layer, num_filters=32, filter_size=(2, 2, 2), stride=2, crop=0, W=lasagne.init.Normal(), nonlinearity=None)\n",
    "layer = layers.BatchNormLayer(layer)\n",
    "layer = layers.ParametricRectifierLayer(layer, alpha=init.Constant(0.1))\n",
    "layer = layers.ConcatLayer([layer, tmp3])\n",
    "#layer = layers.ElemwiseSumLayer([layer, tmp])\n",
    "layer = layers.Conv3DLayer(layer, num_filters=64, filter_size=(3, 3, 3), stride=1, pad=1, W=lasagne.init.Normal(), nonlinearity=None)\n",
    "layer = layers.BatchNormLayer(layer)\n",
    "layer = layers.ParametricRectifierLayer(layer, alpha=init.Constant(0.1))\n",
    "#tmp4 = layers.Conv3DLayer(layer, num_filters=1, filter_size=(1, 1, 1), stride=1, pad=0)\n",
    "\n",
    "#expanding_block 2\n",
    "layer = layers.Conv3DLayer(layer, num_filters=16, filter_size=(1, 1, 1), stride=1, pad=0, W=lasagne.init.Normal(), nonlinearity=None)\n",
    "layer = layers.BatchNormLayer(layer)\n",
    "layer = layers.ParametricRectifierLayer(layer, alpha=init.Constant(0.1))\n",
    "#število filtrov pri dekonvoluciji?\n",
    "layer = Conv3DLayerTransposed(layer, num_filters=16, filter_size=(2, 2, 2), stride=2, crop=0, W=lasagne.init.Normal(), nonlinearity=None)\n",
    "layer = layers.BatchNormLayer(layer)\n",
    "layer = layers.ParametricRectifierLayer(layer, alpha=init.Constant(0.1))\n",
    "layer = layers.ConcatLayer([layer, tmp2])\n",
    "#layer = layers.ElemwiseSumLayer([layer, tmp])\n",
    "layer = layers.Conv3DLayer(layer, num_filters=32, filter_size=(3, 3, 3), stride=1, pad=1, W=lasagne.init.Normal(), nonlinearity=None)\n",
    "layer = layers.BatchNormLayer(layer)\n",
    "layer = layers.ParametricRectifierLayer(layer, alpha=init.Constant(0.1))\n",
    "#tmp5 = layers.Conv3DLayer(layer, num_filters=1, filter_size=(1, 1, 1), stride=1, pad=0)\n",
    "\n",
    "#expanding_block 3\n",
    "layer = layers.Conv3DLayer(layer, num_filters=8, filter_size=(1, 1, 1), stride=1, pad=0, W=lasagne.init.Normal(), nonlinearity=None)\n",
    "layer = layers.BatchNormLayer(layer)\n",
    "layer = layers.ParametricRectifierLayer(layer, alpha=init.Constant(0.1))\n",
    "#število filtrov pri dekonvoluciji?\n",
    "layer = Conv3DLayerTransposed(layer, num_filters=8, filter_size=(2, 2, 2), stride=2, crop=0, W=lasagne.init.Normal(), nonlinearity=None)\n",
    "layer = layers.BatchNormLayer(layer)\n",
    "layer = layers.ParametricRectifierLayer(layer, alpha=init.Constant(0.1))\n",
    "layer = layers.ConcatLayer([layer, tmp1])\n",
    "#layer = layers.ElemwiseSumLayer([layer, tmp])\n",
    "layer = layers.Conv3DLayer(layer, num_filters=16, filter_size=(3, 3, 3), stride=1, pad=1, W=lasagne.init.Normal(), nonlinearity=None)\n",
    "layer = layers.BatchNormLayer(layer)\n",
    "layer = layers.ParametricRectifierLayer(layer, alpha=init.Constant(0.1))\n",
    "layer = layers.Conv3DLayer(layer, num_filters=2, filter_size=(1, 1, 1), stride=1, pad=0)\n",
    "\n",
    "#agregacija\n",
    "\n",
    "#layer = layers.NonlinearityLayer(layer, nonlinearity=lasagne.nonlinearities.sigmoid)\n",
    "#tmp6 = layers.Conv3DLayer(layer, num_filters=1, filter_size=(1, 1, 1), stride=1, pad=0)\n",
    "\n",
    "prediction = lasagne.layers.get_output(layer)\n",
    "prediction = softmax(prediction, (8,2,24,160,160), 2, 1)\n",
    "\n",
    "loss = binary_jaccard_index(prediction[:,1:2,:,:,:], target_var)\n",
    "loss += binary_jaccard_index(prediction[:,0:1,:,:,:], target_var)\n",
    "#loss = binary_jaccard_index(prediction, target_var)\n",
    "loss = loss.mean() \n",
    "\n",
    "params = lasagne.layers.get_all_params(layer, trainable=True)\n",
    "updates = lasagne.updates.adam(loss, params, learning_rate=0.001, beta1=0.1, beta2=0.001)#, rho=0.9, epsilon=1e-06) #\n",
    "\n",
    "train_fn = theano.function([input_var, target_var], [loss, prediction], updates=updates)\n",
    "\n",
    "for epoch in range(500):\n",
    "    loss = train_fn(train_data, train_seg)\n",
    "    #print(loss[1][1][0][10][50][25:75])\n",
    "    #display_numpy(loss[1][0][0]) \n",
    "    print(\"Epoch %d: Loss %g\" % (epoch + 1, loss[0]))"
   ]
  },
  {
   "cell_type": "code",
   "execution_count": 15,
   "metadata": {
    "collapsed": false
   },
   "outputs": [
    {
     "name": "stdout",
     "output_type": "stream",
     "text": [
      "<type 'list'>\n",
      "(1L, 1L, 24L, 160L, 160L)\n"
     ]
    },
    {
     "data": {
      "image/png": "[encoded data removed]",
      "text/plain": [
       "<matplotlib.figure.Figure at 0x1d988f60>"
      ]
     },
     "metadata": {},
     "output_type": "display_data"
    },
    {
     "name": "stdout",
     "output_type": "stream",
     "text": [
      "1.0\n",
      "0.351946466019\n"
     ]
    }
   ],
   "source": [
    "test_prediction = lasagne.layers.get_output(layer, deterministic=True)\n",
    "test_prediction = softmax(test_prediction, (1,2,24,160,160), 2, 1)\n",
    "predict_fn = theano.function([input_var], [theano.tensor.argmax(test_prediction, axis=1)])\n",
    "p1 = predict_fn(test_data[0])\n",
    "print(type(p1))\n",
    "p1 = np.array(p1)\n",
    "print(p1.shape)\n",
    "display_numpy(p1[0][0])\n",
    "print(binary_jaccard_index_test(p1, test_seg[0]))\n",
    "print(((p1 - test_seg[0]) ** 2).mean(axis=None))"
   ]
  },
  {
   "cell_type": "code",
   "execution_count": 16,
   "metadata": {
    "collapsed": false
   },
   "outputs": [
    {
     "ename": "NameError",
     "evalue": "name 'start' is not defined",
     "output_type": "error",
     "traceback": [
      "\u001b[0;31m---------------------------------------------------------------------------\u001b[0m",
      "\u001b[0;31mNameError\u001b[0m                                 Traceback (most recent call last)",
      "\u001b[0;32m<ipython-input-16-7c97e4d139f6>\u001b[0m in \u001b[0;36m<module>\u001b[0;34m()\u001b[0m\n\u001b[1;32m      4\u001b[0m \u001b[1;33m\u001b[0m\u001b[0m\n\u001b[1;32m      5\u001b[0m \u001b[0mlayer\u001b[0m \u001b[1;33m=\u001b[0m \u001b[0mlasagne\u001b[0m\u001b[1;33m.\u001b[0m\u001b[0mlayers\u001b[0m\u001b[1;33m.\u001b[0m\u001b[0mInputLayer\u001b[0m\u001b[1;33m(\u001b[0m\u001b[1;33m(\u001b[0m\u001b[0mNone\u001b[0m\u001b[1;33m,\u001b[0m \u001b[1;36m1\u001b[0m\u001b[1;33m,\u001b[0m \u001b[1;36m24\u001b[0m\u001b[1;33m,\u001b[0m \u001b[1;36m160\u001b[0m\u001b[1;33m,\u001b[0m \u001b[1;36m160\u001b[0m\u001b[1;33m)\u001b[0m\u001b[1;33m,\u001b[0m \u001b[0minput_var\u001b[0m\u001b[1;33m)\u001b[0m\u001b[1;33m\u001b[0m\u001b[0m\n\u001b[0;32m----> 6\u001b[0;31m \u001b[0mlayer\u001b[0m \u001b[1;33m=\u001b[0m \u001b[0mstart\u001b[0m\u001b[1;33m(\u001b[0m\u001b[0mlayer\u001b[0m\u001b[1;33m)\u001b[0m\u001b[1;33m\u001b[0m\u001b[0m\n\u001b[0m\u001b[1;32m      7\u001b[0m \u001b[0mtmp1\u001b[0m \u001b[1;33m=\u001b[0m \u001b[0mlayer\u001b[0m\u001b[1;33m\u001b[0m\u001b[0m\n\u001b[1;32m      8\u001b[0m \u001b[0mlayer\u001b[0m \u001b[1;33m=\u001b[0m \u001b[0mcontracting_block\u001b[0m\u001b[1;33m(\u001b[0m\u001b[0mlayer\u001b[0m\u001b[1;33m)\u001b[0m\u001b[1;33m\u001b[0m\u001b[0m\n",
      "\u001b[0;31mNameError\u001b[0m: name 'start' is not defined"
     ]
    }
   ],
   "source": [
    "input_var = theano.tensor.tensor5()\n",
    "target_var = theano.tensor.tensor5()\n",
    "\n",
    "\n",
    "layer = lasagne.layers.InputLayer((None, 1, 24, 160, 160), input_var)\n",
    "layer = start(layer)\n",
    "tmp1 = layer\n",
    "layer = contracting_block(layer)\n",
    "tmp2 = layer\n",
    "layer = contracting_block(layer)\n",
    "tmp3 = layer\n",
    "layer = contracting_block(layer)\n",
    "layer = expanding_block(layer, tmp3)\n",
    "#tmp4 = layers.Conv3DLayer(layer, num_filters=1, filter_size=(1, 1, 1), stride=1, pad=0)\n",
    "layer = expanding_block(layer, tmp2)\n",
    "#tmp5 = layers.Conv3DLayer(layer, num_filters=1, filter_size=(1, 1, 1), stride=1, pad=0)\n",
    "layer = expanding_final(layer, tmp1)\n",
    "#tmp6 = layers.Conv3DLayer(layer, num_filters=1, filter_size=(1, 1, 1), stride=1, pad=0)\n",
    "#lasagne.regularization.regularize_network_params(layer, lasagne.regularization.l2)\n",
    "\n",
    "#prediction = lasagne.layers.DenseLayer(layer, 2, nonlinearity=lasagne.nonlinearities.softmax)\n",
    "prediction = lasagne.layers.get_output(layer)\n",
    "\n",
    "#uporabiti pravi loss metric\n",
    "#loss = lasagne.objectives.squared_error(prediction, target_var)\n",
    "loss = binary_jaccard_index1(prediction, target_var)\n",
    "loss = loss.mean() #+ 1e-4 * lasagne.regularization.regularize_network_params(layer, lasagne.regularization.l2)\n",
    "\n",
    "#print(loss.eval())\n",
    "\n",
    "# create parameter update expressions\n",
    "params = lasagne.layers.get_all_params(layer, trainable=True)\n",
    "# learning_rate(clanek)=0.00005\n",
    "updates = lasagne.updates.adam(loss, params, learning_rate=0.0001, beta1=0.1, beta2=0.001)\n",
    "\n",
    "# compile training function that updates parameters and returns training loss\n",
    "train_fn = theano.function([input_var, target_var], [loss, prediction], updates=updates)\n",
    "\n",
    "# train network (assuming you've got some training data in numpy arrays)\n",
    "for epoch in range(1000):\n",
    "    #visualize.plot_conv_weights(layer)\n",
    "    #print(lasagne.utils.floatX(prediction).shape)\n",
    "    loss = train_fn(train_data, train_seg)\n",
    "    #print(loss[1].shape)\n",
    "    #print(type(loss[1]))\n",
    "    #print(loss[1][1][0][10][50][25:75])\n",
    "    #print(np.min(loss[1]))\n",
    "    #display_numpy(loss[1][0][0]) #tole odkomentiraj za slikce :)\n",
    "    #theano.printing.pprint(prediction[2][2]) \n",
    "    print(\"Epoch %d: Loss %g\" % (epoch + 1, loss[0]))\n",
    "    \n",
    "\n",
    "#cm = confusion_matrix(, loss[1])\n",
    "#plt.matshow(cm)\n",
    "#plt.title('Confusion matrix')\n",
    "#plt.colorbar()\n",
    "#plt.ylabel('True label')\n",
    "#plt.xlabel('Predicted label')\n",
    "#plt.show()"
   ]
  },
  {
   "cell_type": "code",
   "execution_count": 12,
   "metadata": {
    "collapsed": false
   },
   "outputs": [
    {
     "data": {
      "image/png": "[encoded data removed]",
      "text/plain": [
       "<matplotlib.figure.Figure at 0x1d4aa550>"
      ]
     },
     "metadata": {},
     "output_type": "display_data"
    }
   ],
   "source": [
    "display_numpy(loss[1][0][0])"
   ]
  },
  {
   "cell_type": "code",
   "execution_count": 17,
   "metadata": {
    "collapsed": false
   },
   "outputs": [
    {
     "name": "stdout",
     "output_type": "stream",
     "text": [
      "[ 0.42383817  0.42755674  0.42364552  0.42765284  0.42383401  0.42763247\n",
      "  0.42370539  0.42778085  0.42379395  0.42807431  0.42403912  0.42847873\n",
      "  0.42440574  0.42859634  0.42445203  0.42858801  0.42447421  0.42857559\n",
      "  0.42433226  0.4287516   0.42453231  0.42679306  0.42585264  0.42927692\n",
      "  0.42141332  0.42707927  0.42048577  0.42746581  0.42977311  0.43007534\n",
      "  0.42177497  0.42815648  0.42495857  0.42908213  0.42286045  0.43013008\n",
      "  0.42544304  0.43147057  0.43011937  0.43601275  0.42808841  0.43022833\n",
      "  0.42873422  0.43707984  0.43006351  0.43439169  0.42804293  0.4323404\n",
      "  0.42693408  0.43250688]\n",
      "[ 0.  0.  0.  0.  0.  0.  0.  0.  0.  0.  0.  0.  0.  0.  0.  0.  0.  0.\n",
      "  0.  0.  0.  0.  0.  0.  0.  0.  0.  0.  0.  0.  0.  0.  0.  0.  0.  0.\n",
      "  0.  0.  0.  0.  0.  0.  0.  0.  0.  0.  0.  0.  0.  0.]\n"
     ]
    }
   ],
   "source": [
    "print(loss[1][1][0][10][50][25:75])\n",
    "print(train_seg[1][0][10][50][25:75])"
   ]
  },
  {
   "cell_type": "code",
   "execution_count": 19,
   "metadata": {
    "collapsed": false
   },
   "outputs": [
    {
     "name": "stdout",
     "output_type": "stream",
     "text": [
      "[ 0.42133782  0.41599627  0.84490174  0.97961516  0.98164077  0.98426246\n",
      "  0.98258455  0.9787911   0.96450727  0.93099175  0.98039879  0.99565401\n",
      "  0.9979723   0.9991421   0.9989123   0.99857225  0.99672793  0.99147921\n",
      "  0.99296831  0.9943709   0.99704733  0.9984271   0.99840368  0.99820089\n",
      "  0.99697144  0.9935178   0.99380857  0.9938208   0.99538192  0.99632485\n",
      "  0.99733147  0.99812704  0.99819941  0.99837261  0.99725073  0.99497332\n",
      "  0.99148396  0.98378641  0.88652746  0.43606524  0.42528911  0.42313005\n",
      "  0.42448037  0.4129919   0.42901373  0.41691308  0.42521601  0.42671895\n",
      "  0.4209536   0.42015169]\n",
      "[ 0.  0.  0.  0.  0.  0.  0.  0.  0.  0.  0.  0.  0.  0.  1.  0.  0.  0.\n",
      "  0.  0.  0.  0.  0.  1.  0.  0.  0.  0.  0.  0.  0.  0.  0.  0.  0.  0.\n",
      "  0.  0.  0.  0.  0.  0.  0.  0.  0.  0.  0.  0.  0.  0.]\n"
     ]
    }
   ],
   "source": [
    "print(loss[1][1][0][15][83][40:90])\n",
    "print(train_seg[1][0][15][83][40:90])"
   ]
  },
  {
   "cell_type": "code",
   "execution_count": 49,
   "metadata": {
    "collapsed": false
   },
   "outputs": [
    {
     "name": "stdout",
     "output_type": "stream",
     "text": [
      "282342.494963\n",
      "0.459541821229\n",
      "358.0\n",
      "0.000582682291667\n",
      "357.02113731\n",
      "282343.473826\n",
      "0.275692654342\n",
      "0.0\n",
      "0.99990649117\n",
      "0.0\n"
     ]
    }
   ],
   "source": [
    "print(sum(sum(sum(sum(loss[1][1])))))\n",
    "print(sum(sum(sum(sum(loss[1][1]))))/(160*160*24))\n",
    "print(sum(sum(sum(sum(train_seg[1])))))\n",
    "print(sum(sum(sum(sum(train_seg[1]))))/(160*160*24))\n",
    "\n",
    "min_sum = 0\n",
    "max_sum = 0\n",
    "min1 = 1\n",
    "min1_i = 1\n",
    "max1 = 0\n",
    "max1_i = 0\n",
    "for ni,i in enumerate(loss[1][1]):\n",
    "    for nj,j in enumerate(i):\n",
    "        for nk,k in enumerate(j):\n",
    "            for nl,l in enumerate(k):\n",
    "                if l<min1:\n",
    "                    min1=l\n",
    "                    min1_i=train_seg[1][ni][nj][nk][nl]\n",
    "                if l>max1:\n",
    "                    max1=l\n",
    "                    max1_i = train_seg[1][ni][nj][nk][nl]\n",
    "                min_sum += min(l, train_seg[1][ni][nj][nk][nl])\n",
    "                max_sum += max(l, train_seg[1][ni][nj][nk][nl])\n",
    "\n",
    "print(min_sum)\n",
    "print(max_sum)\n",
    "\n",
    "print(min1)\n",
    "print(min1_i)\n",
    "print(max1)\n",
    "print(max1_i)"
   ]
  },
  {
   "cell_type": "code",
   "execution_count": 35,
   "metadata": {
    "collapsed": false
   },
   "outputs": [
    {
     "data": {
      "text/plain": [
       "0.99873550774001496"
      ]
     },
     "execution_count": 35,
     "metadata": {},
     "output_type": "execute_result"
    }
   ],
   "source": [
    "1-min_sum/max_sum"
   ]
  },
  {
   "cell_type": "code",
   "execution_count": null,
   "metadata": {
    "collapsed": true
   },
   "outputs": [],
   "source": []
  }
 ],
 "metadata": {
  "kernelspec": {
   "display_name": "Python 2",
   "language": "python",
   "name": "python2"
  },
  "language_info": {
   "codemirror_mode": {
    "name": "ipython",
    "version": 2
   },
   "file_extension": ".py",
   "mimetype": "text/x-python",
   "name": "python",
   "nbconvert_exporter": "python",
   "pygments_lexer": "ipython2",
   "version": "2.7.13"
  }
 },
 "nbformat": 4,
 "nbformat_minor": 2
}
