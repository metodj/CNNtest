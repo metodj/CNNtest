{
 "cells": [
  {
   "cell_type": "code",
   "execution_count": 60,
   "metadata": {
    "collapsed": false
   },
   "outputs": [],
   "source": [
    "import matplotlib\n",
    "import matplotlib.pyplot as plt\n",
    "import matplotlib.cm as cm\n",
    "\n",
    "#from urllib import urlretrieve\n",
    "#import cPickle as pickle\n",
    "import os\n",
    "#import gzip\n",
    "\n",
    "import numpy as np\n",
    "import theano\n",
    "\n",
    "import lasagne\n",
    "from lasagne import layers\n",
    "from lasagne.updates import adam\n",
    "\n",
    "#from nolearn.lasagne import NeuralNet\n",
    "#from nolearn.lasagne import visualize\n",
    "\n",
    "#from sklearn.metrics import classification_report\n",
    "#from sklearn.metrics import confusion_matrix"
   ]
  },
  {
   "cell_type": "code",
   "execution_count": 81,
   "metadata": {
    "collapsed": false
   },
   "outputs": [],
   "source": [
    "def contracting_block(layer):\n",
    "    #ugotovi num_filters, padding\n",
    "    layer = layers.Conv3DLayer(layer, num_filters=1, filter_size=(3, 3, 3), stride=2)\n",
    "    tmp_layer = layer\n",
    "    #ugotovi primeren batch norm layer\n",
    "    layer = layers.BatchNormLayer(layer)\n",
    "    #ugotovi primeren prelu layer\n",
    "    layer = layers.prelu(layer)\n",
    "    #ugotovi num_filters, padding\n",
    "    layer = layers.Conv3DLayer(layer, num_filters=1, filter_size=(3, 3, 3), stride=1)\n",
    "    #ugotovi pravilen merge function --> pojavi se tezava,ker elemwise sum spremeni dimenzije inputa\n",
    "    #print(theano.tensor.shape(lasagne.layers.get_output(layer)))\n",
    "    #layer = layers.ElemwiseSumLayer([layer, tmp_layer])\n",
    "    #print(theano.tensor.shape(lasagne.layers.get_output(layer)))\n",
    "    layer = layers.batch_norm(layer)\n",
    "    layer = layers.prelu(layer)\n",
    "    return layer\n",
    "    "
   ]
  },
  {
   "cell_type": "code",
   "execution_count": 75,
   "metadata": {
    "collapsed": true
   },
   "outputs": [],
   "source": [
    "def start(input):\n",
    "    layer = layers.Conv3DLayer(input, num_filters=1, filter_size=(3, 3, 3), stride=1)\n",
    "    #print(theano.tensor.shape(lasagne.layers.get_output(layer)))\n",
    "    layer = layers.BatchNormLayer(layer)\n",
    "    layer = layers.prelu(layer)\n",
    "    return layer"
   ]
  },
  {
   "cell_type": "code",
   "execution_count": 38,
   "metadata": {
    "collapsed": false
   },
   "outputs": [],
   "source": [
    "def expanding_block(layer):\n",
    "    # dodaj feature merging block\n",
    "    layer = layers.Conv3DLayer(layer, num_filters=1, filter_size=(1, 1, 1), stride=1)\n",
    "    layer = layers.BatchNormLayer(layer)\n",
    "    layer = layers.prelu(layer)\n",
    "    # kako deluje deconvolutional layer --> DEKONVOLUCIJA\n",
    "    #layer = layers.Conv3DLayer(input, num_filters=1, filter_size=(3, 3, 3), stride=0.5)\n",
    "    layer = layers.BatchNormLayer(layer)\n",
    "    layer = layers.prelu(layer)\n",
    "    layer = layers.Conv3DLayer(layer, num_filters=1, filter_size=(1, 1, 1), stride=1)\n",
    "    layer = layers.BatchNormLayer(layer)\n",
    "    layer = layers.prelu(layer)\n",
    "    return layer"
   ]
  },
  {
   "cell_type": "code",
   "execution_count": 40,
   "metadata": {
    "collapsed": true
   },
   "outputs": [],
   "source": [
    "def binary_jaccard_index(predictions,targets):\n",
    "    intersection = theano.tensor.minimum(predictions, targets)\n",
    "    union = theano.tensor.maximum(predictions, targets)\n",
    "    axes = tuple(range(1,5))\n",
    "    return intersection.sum(axis=axes) / union.sum(axis=axes)"
   ]
  },
  {
   "cell_type": "code",
   "execution_count": 72,
   "metadata": {
    "collapsed": false
   },
   "outputs": [
    {
     "name": "stdout",
     "output_type": "stream",
     "text": [
      "(1L, 20L, 150L, 150L)\n",
      "(1L, 20L, 150L, 150L)\n",
      "(1L, 20L, 150L, 150L)\n",
      "(1L, 20L, 150L, 150L)\n",
      "(1L, 20L, 150L, 150L)\n",
      "(1L, 20L, 150L, 150L)\n",
      "(1L, 20L, 150L, 150L)\n",
      "(1L, 20L, 150L, 150L)\n"
     ]
    }
   ],
   "source": [
    "#load the data\n",
    "\n",
    "data = np.load('data-150-150-20.npy')\n",
    "seg_data = np.load('segdata-150-150-20.npy')\n",
    "\n",
    "data = np.expand_dims(data, axis=1)\n",
    "seg_data = np.expand_dims(seg_data, axis=1)\n",
    "\n",
    "train_data = data[:-2]\n",
    "validation_data = data[-2:]\n",
    "train_seg = seg_data[:-2]\n",
    "validation_seg = seg_data[-2:]\n",
    "\n",
    "for x in train_seg:\n",
    "    print(x.shape)\n",
    "\n"
   ]
  },
  {
   "cell_type": "code",
   "execution_count": 82,
   "metadata": {
    "collapsed": false
   },
   "outputs": [
    {
     "ename": "ValueError",
     "evalue": "Input dimension mis-match. (input[1].shape[2] = 20, input[3].shape[2] = 6)\nApply node that caused the error: Elemwise{Composite{(((i0 * i1 * i2) / i3) + ((i0 * i1 * i4 * sgn(i5)) / i3))}}(TensorConstant{(1L, 1L, 1..1L) of 0.5}, Elemwise{Mul}[(0, 1)].0, Elemwise{add,no_inplace}.0, Elemwise{Composite{((i0 * i1 * i2) + (i0 * i3 * i4))}}.0, Elemwise{sub,no_inplace}.0, Elemwise{Composite{((i0 * i1) + i2)}}.0)\nToposort index: 278\nInputs types: [TensorType(float64, (True, True, True, True, True)), TensorType(float64, (False, True, False, False, False)), TensorType(float64, (True, True, True, True, True)), TensorType(float64, (False, True, False, False, False)), TensorType(float64, (True, True, True, True, True)), TensorType(float64, (False, True, False, False, False))]\nInputs shapes: [(1L, 1L, 1L, 1L, 1L), (8L, 1L, 20L, 150L, 150L), (1L, 1L, 1L, 1L, 1L), (8L, 1L, 6L, 71L, 71L), (1L, 1L, 1L, 1L, 1L), (8L, 1L, 6L, 71L, 71L)]\nInputs strides: [(8L, 8L, 8L, 8L, 8L), (3600000L, 3600000L, 180000L, 1200L, 8L), (8L, 8L, 8L, 8L, 8L), (241968L, 241968L, 40328L, 568L, 8L), (8L, 8L, 8L, 8L, 8L), (241968L, 241968L, 40328L, 568L, 8L)]\nInputs values: [array([[[[[ 0.5]]]]]), 'not shown', array([[[[[ 1.25]]]]]), 'not shown', array([[[[[ 0.75]]]]]), 'not shown']\nOutputs clients: [[Sum{axis=[0, 2, 3, 4], acc_dtype=float64}(Elemwise{Composite{(((i0 * i1 * i2) / i3) + ((i0 * i1 * i4 * sgn(i5)) / i3))}}.0), Elemwise{Mul}[(0, 1)](Elemwise{Composite{(((i0 * i1 * i2) / i3) + ((i0 * i1 * i4 * sgn(i5)) / i3))}}.0, Elemwise{sub,no_inplace}.0), Elemwise{Composite{((i0 * Composite{((i0 * i1) + i2 + ((i3 * i4 * i5 * i6) / i7) + i8)}(i1, i2, i3, i4, i5, i6, i7, i8, i9)) + (i0 * Composite{((i0 * i1) + i2 + ((i3 * i4 * i5 * i6) / i7) + i8)}(i1, i2, i3, i4, i5, i6, i7, i8, i9) * sgn(i10)))}}[(0, 1)](TensorConstant{(1L, 1L, 1..1L) of 0.5}, Elemwise{Composite{(((i0 * i1 * i2) / i3) + ((i0 * i1 * i4 * sgn(i5)) / i3))}}.0, Elemwise{mul,no_inplace}.0, Elemwise{Composite{(((((-(i0 * i1)) / i2) / i3) / i4) / i5)}}[(0, 1)].0, TensorConstant{(1L, 1L, 1..L) of -1.0}, InplaceDimShuffle{x,0,x,x,x}.0, InplaceDimShuffle{x,0,x,x,x}.0, Elemwise{Sub}[(0, 0)].0, Elemwise{mul,no_inplace}.0, Elemwise{Composite{((((i0 / i1) / i2) / i3) / i4)}}[(0, 0)].0, Elemwise{Add}[(0, 0)].0)]]\n\nHINT: Re-running with most Theano optimization disabled could give you a back-trace of when this node was created. This can be done with by setting the Theano flag 'optimizer=fast_compile'. If that does not work, Theano optimizations can be disabled with 'optimizer=None'.\nHINT: Use the Theano flag 'exception_verbosity=high' for a debugprint and storage map footprint of this apply node.",
     "output_type": "error",
     "traceback": [
      "\u001b[0;31m---------------------------------------------------------------------------\u001b[0m",
      "\u001b[0;31mValueError\u001b[0m                                Traceback (most recent call last)",
      "\u001b[0;32m<ipython-input-82-8ed7ca3a05dc>\u001b[0m in \u001b[0;36m<module>\u001b[0;34m()\u001b[0m\n\u001b[1;32m     24\u001b[0m \u001b[1;31m# train network (assuming you've got some training data in numpy arrays)\u001b[0m\u001b[1;33m\u001b[0m\u001b[1;33m\u001b[0m\u001b[0m\n\u001b[1;32m     25\u001b[0m \u001b[1;32mfor\u001b[0m \u001b[0mepoch\u001b[0m \u001b[1;32min\u001b[0m \u001b[0mrange\u001b[0m\u001b[1;33m(\u001b[0m\u001b[1;36m100\u001b[0m\u001b[1;33m)\u001b[0m\u001b[1;33m:\u001b[0m\u001b[1;33m\u001b[0m\u001b[0m\n\u001b[0;32m---> 26\u001b[0;31m     \u001b[0mloss\u001b[0m \u001b[1;33m=\u001b[0m \u001b[0mtrain_fn\u001b[0m\u001b[1;33m(\u001b[0m\u001b[0mtrain_data\u001b[0m\u001b[1;33m,\u001b[0m \u001b[0mtrain_seg\u001b[0m\u001b[1;33m)\u001b[0m\u001b[1;33m\u001b[0m\u001b[0m\n\u001b[0m\u001b[1;32m     27\u001b[0m     \u001b[1;32mprint\u001b[0m\u001b[1;33m(\u001b[0m\u001b[1;34m\"Epoch %d: Loss %g\"\u001b[0m \u001b[1;33m%\u001b[0m \u001b[1;33m(\u001b[0m\u001b[0mepoch\u001b[0m \u001b[1;33m+\u001b[0m \u001b[1;36m1\u001b[0m\u001b[1;33m,\u001b[0m \u001b[0mloss\u001b[0m\u001b[1;33m)\u001b[0m\u001b[1;33m)\u001b[0m\u001b[1;33m\u001b[0m\u001b[0m\n",
      "\u001b[0;32mC:\\Users\\metodjazbec\\AppData\\Roaming\\Python\\Python27\\site-packages\\theano\\compile\\function_module.pyc\u001b[0m in \u001b[0;36m__call__\u001b[0;34m(self, *args, **kwargs)\u001b[0m\n\u001b[1;32m    896\u001b[0m                     \u001b[0mnode\u001b[0m\u001b[1;33m=\u001b[0m\u001b[0mself\u001b[0m\u001b[1;33m.\u001b[0m\u001b[0mfn\u001b[0m\u001b[1;33m.\u001b[0m\u001b[0mnodes\u001b[0m\u001b[1;33m[\u001b[0m\u001b[0mself\u001b[0m\u001b[1;33m.\u001b[0m\u001b[0mfn\u001b[0m\u001b[1;33m.\u001b[0m\u001b[0mposition_of_error\u001b[0m\u001b[1;33m]\u001b[0m\u001b[1;33m,\u001b[0m\u001b[1;33m\u001b[0m\u001b[0m\n\u001b[1;32m    897\u001b[0m                     \u001b[0mthunk\u001b[0m\u001b[1;33m=\u001b[0m\u001b[0mthunk\u001b[0m\u001b[1;33m,\u001b[0m\u001b[1;33m\u001b[0m\u001b[0m\n\u001b[0;32m--> 898\u001b[0;31m                     storage_map=getattr(self.fn, 'storage_map', None))\n\u001b[0m\u001b[1;32m    899\u001b[0m             \u001b[1;32melse\u001b[0m\u001b[1;33m:\u001b[0m\u001b[1;33m\u001b[0m\u001b[0m\n\u001b[1;32m    900\u001b[0m                 \u001b[1;31m# old-style linkers raise their own exceptions\u001b[0m\u001b[1;33m\u001b[0m\u001b[1;33m\u001b[0m\u001b[0m\n",
      "\u001b[0;32mC:\\Users\\metodjazbec\\AppData\\Roaming\\Python\\Python27\\site-packages\\theano\\gof\\link.pyc\u001b[0m in \u001b[0;36mraise_with_op\u001b[0;34m(node, thunk, exc_info, storage_map)\u001b[0m\n\u001b[1;32m    323\u001b[0m         \u001b[1;31m# extra long error message in that case.\u001b[0m\u001b[1;33m\u001b[0m\u001b[1;33m\u001b[0m\u001b[0m\n\u001b[1;32m    324\u001b[0m         \u001b[1;32mpass\u001b[0m\u001b[1;33m\u001b[0m\u001b[0m\n\u001b[0;32m--> 325\u001b[0;31m     \u001b[0mreraise\u001b[0m\u001b[1;33m(\u001b[0m\u001b[0mexc_type\u001b[0m\u001b[1;33m,\u001b[0m \u001b[0mexc_value\u001b[0m\u001b[1;33m,\u001b[0m \u001b[0mexc_trace\u001b[0m\u001b[1;33m)\u001b[0m\u001b[1;33m\u001b[0m\u001b[0m\n\u001b[0m\u001b[1;32m    326\u001b[0m \u001b[1;33m\u001b[0m\u001b[0m\n\u001b[1;32m    327\u001b[0m \u001b[1;33m\u001b[0m\u001b[0m\n",
      "\u001b[0;32mC:\\Users\\metodjazbec\\AppData\\Roaming\\Python\\Python27\\site-packages\\theano\\compile\\function_module.pyc\u001b[0m in \u001b[0;36m__call__\u001b[0;34m(self, *args, **kwargs)\u001b[0m\n\u001b[1;32m    882\u001b[0m         \u001b[1;32mtry\u001b[0m\u001b[1;33m:\u001b[0m\u001b[1;33m\u001b[0m\u001b[0m\n\u001b[1;32m    883\u001b[0m             \u001b[0moutputs\u001b[0m \u001b[1;33m=\u001b[0m\u001b[0;31m\\\u001b[0m\u001b[1;33m\u001b[0m\u001b[0m\n\u001b[0;32m--> 884\u001b[0;31m                 \u001b[0mself\u001b[0m\u001b[1;33m.\u001b[0m\u001b[0mfn\u001b[0m\u001b[1;33m(\u001b[0m\u001b[1;33m)\u001b[0m \u001b[1;32mif\u001b[0m \u001b[0moutput_subset\u001b[0m \u001b[1;32mis\u001b[0m \u001b[0mNone\u001b[0m \u001b[1;32melse\u001b[0m\u001b[0;31m\\\u001b[0m\u001b[1;33m\u001b[0m\u001b[0m\n\u001b[0m\u001b[1;32m    885\u001b[0m                 \u001b[0mself\u001b[0m\u001b[1;33m.\u001b[0m\u001b[0mfn\u001b[0m\u001b[1;33m(\u001b[0m\u001b[0moutput_subset\u001b[0m\u001b[1;33m=\u001b[0m\u001b[0moutput_subset\u001b[0m\u001b[1;33m)\u001b[0m\u001b[1;33m\u001b[0m\u001b[0m\n\u001b[1;32m    886\u001b[0m         \u001b[1;32mexcept\u001b[0m \u001b[0mException\u001b[0m\u001b[1;33m:\u001b[0m\u001b[1;33m\u001b[0m\u001b[0m\n",
      "\u001b[0;31mValueError\u001b[0m: Input dimension mis-match. (input[1].shape[2] = 20, input[3].shape[2] = 6)\nApply node that caused the error: Elemwise{Composite{(((i0 * i1 * i2) / i3) + ((i0 * i1 * i4 * sgn(i5)) / i3))}}(TensorConstant{(1L, 1L, 1..1L) of 0.5}, Elemwise{Mul}[(0, 1)].0, Elemwise{add,no_inplace}.0, Elemwise{Composite{((i0 * i1 * i2) + (i0 * i3 * i4))}}.0, Elemwise{sub,no_inplace}.0, Elemwise{Composite{((i0 * i1) + i2)}}.0)\nToposort index: 278\nInputs types: [TensorType(float64, (True, True, True, True, True)), TensorType(float64, (False, True, False, False, False)), TensorType(float64, (True, True, True, True, True)), TensorType(float64, (False, True, False, False, False)), TensorType(float64, (True, True, True, True, True)), TensorType(float64, (False, True, False, False, False))]\nInputs shapes: [(1L, 1L, 1L, 1L, 1L), (8L, 1L, 20L, 150L, 150L), (1L, 1L, 1L, 1L, 1L), (8L, 1L, 6L, 71L, 71L), (1L, 1L, 1L, 1L, 1L), (8L, 1L, 6L, 71L, 71L)]\nInputs strides: [(8L, 8L, 8L, 8L, 8L), (3600000L, 3600000L, 180000L, 1200L, 8L), (8L, 8L, 8L, 8L, 8L), (241968L, 241968L, 40328L, 568L, 8L), (8L, 8L, 8L, 8L, 8L), (241968L, 241968L, 40328L, 568L, 8L)]\nInputs values: [array([[[[[ 0.5]]]]]), 'not shown', array([[[[[ 1.25]]]]]), 'not shown', array([[[[[ 0.75]]]]]), 'not shown']\nOutputs clients: [[Sum{axis=[0, 2, 3, 4], acc_dtype=float64}(Elemwise{Composite{(((i0 * i1 * i2) / i3) + ((i0 * i1 * i4 * sgn(i5)) / i3))}}.0), Elemwise{Mul}[(0, 1)](Elemwise{Composite{(((i0 * i1 * i2) / i3) + ((i0 * i1 * i4 * sgn(i5)) / i3))}}.0, Elemwise{sub,no_inplace}.0), Elemwise{Composite{((i0 * Composite{((i0 * i1) + i2 + ((i3 * i4 * i5 * i6) / i7) + i8)}(i1, i2, i3, i4, i5, i6, i7, i8, i9)) + (i0 * Composite{((i0 * i1) + i2 + ((i3 * i4 * i5 * i6) / i7) + i8)}(i1, i2, i3, i4, i5, i6, i7, i8, i9) * sgn(i10)))}}[(0, 1)](TensorConstant{(1L, 1L, 1..1L) of 0.5}, Elemwise{Composite{(((i0 * i1 * i2) / i3) + ((i0 * i1 * i4 * sgn(i5)) / i3))}}.0, Elemwise{mul,no_inplace}.0, Elemwise{Composite{(((((-(i0 * i1)) / i2) / i3) / i4) / i5)}}[(0, 1)].0, TensorConstant{(1L, 1L, 1..L) of -1.0}, InplaceDimShuffle{x,0,x,x,x}.0, InplaceDimShuffle{x,0,x,x,x}.0, Elemwise{Sub}[(0, 0)].0, Elemwise{mul,no_inplace}.0, Elemwise{Composite{((((i0 / i1) / i2) / i3) / i4)}}[(0, 0)].0, Elemwise{Add}[(0, 0)].0)]]\n\nHINT: Re-running with most Theano optimization disabled could give you a back-trace of when this node was created. This can be done with by setting the Theano flag 'optimizer=fast_compile'. If that does not work, Theano optimizations can be disabled with 'optimizer=None'.\nHINT: Use the Theano flag 'exception_verbosity=high' for a debugprint and storage map footprint of this apply node."
     ]
    }
   ],
   "source": [
    "input_var = theano.tensor.tensor5()\n",
    "target_var = theano.tensor.tensor5()\n",
    "\n",
    "\n",
    "input = lasagne.layers.InputLayer((None, 1, 20, 150, 150), input_var)\n",
    "layer = start(input)\n",
    "layer = contracting_block(layer)\n",
    "layer = expanding_block(layer)\n",
    "\n",
    "prediction = lasagne.layers.get_output(layer)\n",
    "#uporabiti pravi loss metric\n",
    "loss = lasagne.objectives.categorical_crossentropy(prediction, target_var)\n",
    "loss = loss.mean() #+ 1e-4 * lasagne.regularization.regularize_network_params(network, lasagne.regularization.l2)\n",
    "\n",
    "#print(loss.eval())\n",
    "\n",
    "# create parameter update expressions\n",
    "params = lasagne.layers.get_all_params(layer, trainable=True)\n",
    "updates = lasagne.updates.adam(loss, params, learning_rate=0.01)\n",
    "\n",
    "# compile training function that updates parameters and returns training loss\n",
    "train_fn = theano.function([input_var, target_var], loss, updates=updates)\n",
    "\n",
    "# train network (assuming you've got some training data in numpy arrays)\n",
    "for epoch in range(100):\n",
    "    loss = train_fn(train_data, train_seg)\n",
    "    print(\"Epoch %d: Loss %g\" % (epoch + 1, loss))"
   ]
  },
  {
   "cell_type": "code",
   "execution_count": null,
   "metadata": {
    "collapsed": true
   },
   "outputs": [],
   "source": []
  }
 ],
 "metadata": {
  "kernelspec": {
   "display_name": "Python 2",
   "language": "python",
   "name": "python2"
  },
  "language_info": {
   "codemirror_mode": {
    "name": "ipython",
    "version": 2
   },
   "file_extension": ".py",
   "mimetype": "text/x-python",
   "name": "python",
   "nbconvert_exporter": "python",
   "pygments_lexer": "ipython2",
   "version": "2.7.13"
  }
 },
 "nbformat": 4,
 "nbformat_minor": 2
}
